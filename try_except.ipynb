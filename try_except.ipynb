{
  "nbformat": 4,
  "nbformat_minor": 0,
  "metadata": {
    "colab": {
      "name": "try_except.ipynb",
      "provenance": [],
      "collapsed_sections": [],
      "toc_visible": true,
      "authorship_tag": "ABX9TyOO/Qcqmx7XUfj3Kdp7Q9pt",
      "include_colab_link": true
    },
    "kernelspec": {
      "name": "python3",
      "display_name": "Python 3"
    },
    "language_info": {
      "name": "python"
    }
  },
  "cells": [
    {
      "cell_type": "markdown",
      "metadata": {
        "id": "view-in-github",
        "colab_type": "text"
      },
      "source": [
        "<a href=\"https://colab.research.google.com/github/daniel692a/colab/blob/main/try_except.ipynb\" target=\"_parent\"><img src=\"https://colab.research.google.com/assets/colab-badge.svg\" alt=\"Open In Colab\"/></a>"
      ]
    },
    {
      "cell_type": "markdown",
      "metadata": {
        "id": "TeFU75YMBioR"
      },
      "source": [
        "# Manejo de errores y excepciones"
      ]
    },
    {
      "cell_type": "markdown",
      "metadata": {
        "id": "8LqkgVrDBpCE"
      },
      "source": [
        "## 1. Errores y excepciones"
      ]
    },
    {
      "cell_type": "markdown",
      "metadata": {
        "id": "R-ur7yfGBzsd"
      },
      "source": [
        "En Python existen dos tipos de errores:\n",
        "1. Errores: son ocasionados por problemas que hacen que se detenga la ejecución. Hay errores de distintos tipos. Los más comunes son errores de sintaxis y los de identación, que se originan cuando no se cumplen las reglas de escritura de los bloques de código y de la declaración de variables.\n",
        "2. Excepciones: también son conocidas como errores de lógica. La diferencia es que éstos se pueden manejar para que una función o un bloque de código no se vea obligado a parar."
      ]
    },
    {
      "cell_type": "markdown",
      "metadata": {
        "id": "NnIs1ZBxW-At"
      },
      "source": [
        "### Errores de Sintáxis"
      ]
    },
    {
      "cell_type": "code",
      "metadata": {
        "colab": {
          "base_uri": "https://localhost:8080/",
          "height": 129
        },
        "id": "agEtZZTkBzZb",
        "outputId": "2085341c-bd5e-4839-8fb7-002a1c430ba0"
      },
      "source": [
        "[ 1, 2, 3; 4]"
      ],
      "execution_count": null,
      "outputs": [
        {
          "output_type": "error",
          "ename": "SyntaxError",
          "evalue": "ignored",
          "traceback": [
            "\u001b[0;36m  File \u001b[0;32m\"<ipython-input-1-b156dbc20cb3>\"\u001b[0;36m, line \u001b[0;32m1\u001b[0m\n\u001b[0;31m    [ 1, 2, 3; 4]\u001b[0m\n\u001b[0m             ^\u001b[0m\n\u001b[0;31mSyntaxError\u001b[0m\u001b[0;31m:\u001b[0m invalid syntax\n"
          ]
        }
      ]
    },
    {
      "cell_type": "markdown",
      "metadata": {
        "id": "6_RvDEhdX5L-"
      },
      "source": [
        "### Excepciones"
      ]
    },
    {
      "cell_type": "code",
      "metadata": {
        "colab": {
          "base_uri": "https://localhost:8080/",
          "height": 163
        },
        "id": "2c0cBNHKX7Yg",
        "outputId": "06737f08-d876-4999-e5e3-72bee1a9f3f4"
      },
      "source": [
        "3/0"
      ],
      "execution_count": null,
      "outputs": [
        {
          "output_type": "error",
          "ename": "ZeroDivisionError",
          "evalue": "ignored",
          "traceback": [
            "\u001b[0;31m---------------------------------------------------------------------------\u001b[0m",
            "\u001b[0;31mZeroDivisionError\u001b[0m                         Traceback (most recent call last)",
            "\u001b[0;32m<ipython-input-2-f6cc6d14333b>\u001b[0m in \u001b[0;36m<module>\u001b[0;34m()\u001b[0m\n\u001b[0;32m----> 1\u001b[0;31m \u001b[0;36m3\u001b[0m\u001b[0;34m/\u001b[0m\u001b[0;36m0\u001b[0m\u001b[0;34m\u001b[0m\u001b[0;34m\u001b[0m\u001b[0m\n\u001b[0m",
            "\u001b[0;31mZeroDivisionError\u001b[0m: division by zero"
          ]
        }
      ]
    },
    {
      "cell_type": "markdown",
      "metadata": {
        "id": "ZrDXpRoDZq1e"
      },
      "source": [
        "## Personalización de errores y excepciones (*raise* y *assert*)"
      ]
    },
    {
      "cell_type": "markdown",
      "metadata": {
        "id": "FGW-Ax_JabjS"
      },
      "source": [
        "La palabra reservada **raise**, se utiliza en Python para lanzar un error cuando se produce una condición determinada."
      ]
    },
    {
      "cell_type": "code",
      "metadata": {
        "colab": {
          "base_uri": "https://localhost:8080/",
          "height": 197
        },
        "id": "6-K6jYItbQC6",
        "outputId": "8f1c1380-ddfc-41d1-8db2-cf39cc98356c"
      },
      "source": [
        "weight = -1\n",
        "\n",
        "if weight <=0:\n",
        "    raise Exception('Weigth debe ser mayor a 0')"
      ],
      "execution_count": null,
      "outputs": [
        {
          "output_type": "error",
          "ename": "Exception",
          "evalue": "ignored",
          "traceback": [
            "\u001b[0;31m---------------------------------------------------------------------------\u001b[0m",
            "\u001b[0;31mException\u001b[0m                                 Traceback (most recent call last)",
            "\u001b[0;32m<ipython-input-4-806b979c2146>\u001b[0m in \u001b[0;36m<module>\u001b[0;34m()\u001b[0m\n\u001b[1;32m      2\u001b[0m \u001b[0;34m\u001b[0m\u001b[0m\n\u001b[1;32m      3\u001b[0m \u001b[0;32mif\u001b[0m \u001b[0mweight\u001b[0m \u001b[0;34m<=\u001b[0m\u001b[0;36m0\u001b[0m\u001b[0;34m:\u001b[0m\u001b[0;34m\u001b[0m\u001b[0;34m\u001b[0m\u001b[0m\n\u001b[0;32m----> 4\u001b[0;31m     \u001b[0;32mraise\u001b[0m \u001b[0mException\u001b[0m\u001b[0;34m(\u001b[0m\u001b[0;34m'Weigth debe ser mayor a 0'\u001b[0m\u001b[0;34m)\u001b[0m\u001b[0;34m\u001b[0m\u001b[0;34m\u001b[0m\u001b[0m\n\u001b[0m",
            "\u001b[0;31mException\u001b[0m: Weigth debe ser mayor a 0"
          ]
        }
      ]
    },
    {
      "cell_type": "markdown",
      "metadata": {
        "id": "OlHOB45jbmcW"
      },
      "source": [
        "Además de *raise*, nos podemos valer de la palabra *assert* para evaluar que se cumpla cierta condición. Si la condición se cumple, entonces podemos continuar con el programa; de otra manera, si la condición no se cumple, entonces obtendremos la excepción con un mensaje personalizado."
      ]
    },
    {
      "cell_type": "code",
      "metadata": {
        "id": "jza7VBFFbx0f"
      },
      "source": [
        "def size_of_string(word):\n",
        "    assert type(word)==str, 'word must be str'\n",
        "    print(len(word))"
      ],
      "execution_count": null,
      "outputs": []
    },
    {
      "cell_type": "code",
      "metadata": {
        "colab": {
          "base_uri": "https://localhost:8080/",
          "height": 248
        },
        "id": "kcyPAqAchiPa",
        "outputId": "2826a65d-55b7-4dca-9e7e-25fcf2f811f4"
      },
      "source": [
        "size_of_string(12)"
      ],
      "execution_count": null,
      "outputs": [
        {
          "output_type": "error",
          "ename": "AssertionError",
          "evalue": "ignored",
          "traceback": [
            "\u001b[0;31m---------------------------------------------------------------------------\u001b[0m",
            "\u001b[0;31mAssertionError\u001b[0m                            Traceback (most recent call last)",
            "\u001b[0;32m<ipython-input-31-93214913e1c5>\u001b[0m in \u001b[0;36m<module>\u001b[0;34m()\u001b[0m\n\u001b[0;32m----> 1\u001b[0;31m \u001b[0msize_of_string\u001b[0m\u001b[0;34m(\u001b[0m\u001b[0;36m12\u001b[0m\u001b[0;34m)\u001b[0m\u001b[0;34m\u001b[0m\u001b[0;34m\u001b[0m\u001b[0m\n\u001b[0m",
            "\u001b[0;32m<ipython-input-30-ace6f4415201>\u001b[0m in \u001b[0;36msize_of_string\u001b[0;34m(word)\u001b[0m\n\u001b[1;32m      1\u001b[0m \u001b[0;32mdef\u001b[0m \u001b[0msize_of_string\u001b[0m\u001b[0;34m(\u001b[0m\u001b[0mword\u001b[0m\u001b[0;34m)\u001b[0m\u001b[0;34m:\u001b[0m\u001b[0;34m\u001b[0m\u001b[0;34m\u001b[0m\u001b[0m\n\u001b[0;32m----> 2\u001b[0;31m     \u001b[0;32massert\u001b[0m \u001b[0mtype\u001b[0m\u001b[0;34m(\u001b[0m\u001b[0mword\u001b[0m\u001b[0;34m)\u001b[0m\u001b[0;34m==\u001b[0m\u001b[0mstr\u001b[0m\u001b[0;34m,\u001b[0m \u001b[0;34m'word must be str'\u001b[0m\u001b[0;34m\u001b[0m\u001b[0;34m\u001b[0m\u001b[0m\n\u001b[0m\u001b[1;32m      3\u001b[0m     \u001b[0mprint\u001b[0m\u001b[0;34m(\u001b[0m\u001b[0mlen\u001b[0m\u001b[0;34m(\u001b[0m\u001b[0mword\u001b[0m\u001b[0;34m)\u001b[0m\u001b[0;34m)\u001b[0m\u001b[0;34m\u001b[0m\u001b[0;34m\u001b[0m\u001b[0m\n",
            "\u001b[0;31mAssertionError\u001b[0m: word must be str"
          ]
        }
      ]
    },
    {
      "cell_type": "markdown",
      "metadata": {
        "id": "sZtwdXJ6iJk-"
      },
      "source": [
        "Si la condición en el assert retorna `True`, no va a suceder nada, pero si retorna `False`, se ejecutará nuestro mensaje"
      ]
    },
    {
      "cell_type": "markdown",
      "metadata": {
        "id": "l7YKhbgQjFvk"
      },
      "source": [
        "## Manejo de Excepciones con `try-except`"
      ]
    },
    {
      "cell_type": "markdown",
      "metadata": {
        "id": "eyil8LtFjMXC"
      },
      "source": [
        "Su sintáxis es la siguiente:\n",
        "```python\n",
        "try:\n",
        "    //Code\n",
        "except:\n",
        "    //Code\n",
        "```\n",
        "Lo primero que se ejecuta es la sentencia *try* para intentar ejecutar el código que le sigue, en caso de que una excepción ocurra el código ligado a *try* será ignorado y en su lugar se ejecutará el código unido a la sentencia *except*."
      ]
    },
    {
      "cell_type": "code",
      "metadata": {
        "id": "GAhwxf2CkGsX"
      },
      "source": [
        "def divide(num_1, num_2):\n",
        "    try:\n",
        "        result = num_1//num_2\n",
        "        return f'The result is {result}'\n",
        "    except ZeroDivisionError:\n",
        "        return 'I´m sorry, you cannot divide by zero'"
      ],
      "execution_count": null,
      "outputs": []
    },
    {
      "cell_type": "code",
      "metadata": {
        "colab": {
          "base_uri": "https://localhost:8080/",
          "height": 35
        },
        "id": "HyB4Paj9kiR0",
        "outputId": "c8d1e9ba-ecc2-41f8-ccde-a2383a354f2b"
      },
      "source": [
        "divide(3,0)"
      ],
      "execution_count": null,
      "outputs": [
        {
          "output_type": "execute_result",
          "data": {
            "application/vnd.google.colaboratory.intrinsic+json": {
              "type": "string"
            },
            "text/plain": [
              "'I´m sorry, you cannot divide by zero'"
            ]
          },
          "metadata": {
            "tags": []
          },
          "execution_count": 38
        }
      ]
    },
    {
      "cell_type": "code",
      "metadata": {
        "colab": {
          "base_uri": "https://localhost:8080/",
          "height": 35
        },
        "id": "z6lYIt4mk5jt",
        "outputId": "8c7e7fc4-7e12-4185-88ae-a6f520530e36"
      },
      "source": [
        "divide(3,3)"
      ],
      "execution_count": null,
      "outputs": [
        {
          "output_type": "execute_result",
          "data": {
            "application/vnd.google.colaboratory.intrinsic+json": {
              "type": "string"
            },
            "text/plain": [
              "'The result is 1'"
            ]
          },
          "metadata": {
            "tags": []
          },
          "execution_count": 39
        }
      ]
    },
    {
      "cell_type": "code",
      "metadata": {
        "id": "i0JflOT_lXjX"
      },
      "source": [
        "def join_str(word_1, word_2):\n",
        "    try:\n",
        "        return word_1 + word_2\n",
        "    except TypeError:\n",
        "        return f'You must insert str'"
      ],
      "execution_count": null,
      "outputs": []
    },
    {
      "cell_type": "code",
      "metadata": {
        "colab": {
          "base_uri": "https://localhost:8080/",
          "height": 35
        },
        "id": "fbckNaDBlsrl",
        "outputId": "ff587d0b-e25b-4532-b4c5-256b438ff3a0"
      },
      "source": [
        "join_str('A', 'B')"
      ],
      "execution_count": null,
      "outputs": [
        {
          "output_type": "execute_result",
          "data": {
            "application/vnd.google.colaboratory.intrinsic+json": {
              "type": "string"
            },
            "text/plain": [
              "'AB'"
            ]
          },
          "metadata": {
            "tags": []
          },
          "execution_count": 50
        }
      ]
    },
    {
      "cell_type": "code",
      "metadata": {
        "colab": {
          "base_uri": "https://localhost:8080/",
          "height": 35
        },
        "id": "qYQnM3cpl4BP",
        "outputId": "061e618c-7c20-4197-ff99-85cc95dc185d"
      },
      "source": [
        "join_str(2, 'a')"
      ],
      "execution_count": null,
      "outputs": [
        {
          "output_type": "execute_result",
          "data": {
            "application/vnd.google.colaboratory.intrinsic+json": {
              "type": "string"
            },
            "text/plain": [
              "'You must insert str'"
            ]
          },
          "metadata": {
            "tags": []
          },
          "execution_count": 51
        }
      ]
    }
  ]
}