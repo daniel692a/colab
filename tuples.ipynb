{
  "nbformat": 4,
  "nbformat_minor": 0,
  "metadata": {
    "colab": {
      "name": "tuples.ipynb",
      "provenance": [],
      "collapsed_sections": [],
      "authorship_tag": "ABX9TyOEuqglLSoAPx4QwKg6n2En",
      "include_colab_link": true
    },
    "kernelspec": {
      "name": "python3",
      "display_name": "Python 3"
    },
    "language_info": {
      "name": "python"
    }
  },
  "cells": [
    {
      "cell_type": "markdown",
      "metadata": {
        "id": "view-in-github",
        "colab_type": "text"
      },
      "source": [
        "<a href=\"https://colab.research.google.com/github/daniel692a/colab/blob/main/tuples.ipynb\" target=\"_parent\"><img src=\"https://colab.research.google.com/assets/colab-badge.svg\" alt=\"Open In Colab\"/></a>"
      ]
    },
    {
      "cell_type": "markdown",
      "metadata": {
        "id": "6d0zL5Ok6PXl"
      },
      "source": [
        "#Tuplas\n",
        "Una tupla también es una secuencia de Python que puede almacenar elementos del mismo tipo o de distintos tipos, pero a diferencia de las listas, es un objeto inmutable."
      ]
    },
    {
      "cell_type": "code",
      "metadata": {
        "colab": {
          "base_uri": "https://localhost:8080/"
        },
        "id": "HjC-f07n6CYj",
        "outputId": "5940d238-0228-4319-db4e-bd9739b67203"
      },
      "source": [
        "numbers = 10,20\n",
        "\n",
        "vowels = ('a', 'e', 'i', 'o', 'u')\n",
        "print(numbers, vowels)"
      ],
      "execution_count": 2,
      "outputs": [
        {
          "output_type": "stream",
          "text": [
            "(10, 20) ('a', 'e', 'i', 'o', 'u')\n"
          ],
          "name": "stdout"
        }
      ]
    },
    {
      "cell_type": "code",
      "metadata": {
        "colab": {
          "base_uri": "https://localhost:8080/"
        },
        "id": "JgxIBot7_qzE",
        "outputId": "9b0ba90b-aba3-4df9-e531-aa9fa24de67a"
      },
      "source": [
        "print(type(numbers))\n",
        "print(type(vowels))"
      ],
      "execution_count": 3,
      "outputs": [
        {
          "output_type": "stream",
          "text": [
            "<class 'tuple'>\n",
            "<class 'tuple'>\n"
          ],
          "name": "stdout"
        }
      ]
    },
    {
      "cell_type": "markdown",
      "metadata": {
        "id": "rMw6oGRzADXR"
      },
      "source": [
        "> ## Convertir lista a tupla\n",
        "\n"
      ]
    },
    {
      "cell_type": "code",
      "metadata": {
        "colab": {
          "base_uri": "https://localhost:8080/"
        },
        "id": "d9G1VlAoAJjZ",
        "outputId": "9d990201-9475-4257-8d1f-93beb795905f"
      },
      "source": [
        "my_list = [ 1, 2, 3, 4, 5]\n",
        "\n",
        "my_tuple = tuple(my_list)\n",
        "my_tuple"
      ],
      "execution_count": 5,
      "outputs": [
        {
          "output_type": "execute_result",
          "data": {
            "text/plain": [
              "(1, 2, 3, 4, 5)"
            ]
          },
          "metadata": {
            "tags": []
          },
          "execution_count": 5
        }
      ]
    },
    {
      "cell_type": "markdown",
      "metadata": {
        "id": "iWOBw9JtAd12"
      },
      "source": [
        "También existe el método count:"
      ]
    },
    {
      "cell_type": "code",
      "metadata": {
        "colab": {
          "base_uri": "https://localhost:8080/"
        },
        "id": "wuNn3uBlAhfA",
        "outputId": "028a4ff4-dafe-4b2c-8943-6886f9b25680"
      },
      "source": [
        "my_tuple.count(4)"
      ],
      "execution_count": 6,
      "outputs": [
        {
          "output_type": "execute_result",
          "data": {
            "text/plain": [
              "1"
            ]
          },
          "metadata": {
            "tags": []
          },
          "execution_count": 6
        }
      ]
    },
    {
      "cell_type": "markdown",
      "metadata": {
        "id": "MdK6XAaVBEHg"
      },
      "source": [
        "## Separar elementos de una tupla"
      ]
    },
    {
      "cell_type": "code",
      "metadata": {
        "colab": {
          "base_uri": "https://localhost:8080/"
        },
        "id": "AfNq4QWVBHqP",
        "outputId": "52bdb0b3-493d-40c2-c207-4977abb09821"
      },
      "source": [
        "tup = (1,2)\n",
        "x, y = tup\n",
        "print(x)\n",
        "print(y)"
      ],
      "execution_count": 11,
      "outputs": [
        {
          "output_type": "stream",
          "text": [
            "1\n",
            "2\n"
          ],
          "name": "stdout"
        }
      ]
    },
    {
      "cell_type": "markdown",
      "metadata": {
        "id": "wSmNMs4vBarQ"
      },
      "source": [
        "Como existen dos elementos en la tupla, x tendrá el primero y ***y*** el segundo. También se puede hacer en las listas"
      ]
    }
  ]
}