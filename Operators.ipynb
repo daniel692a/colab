{
  "nbformat": 4,
  "nbformat_minor": 0,
  "metadata": {
    "colab": {
      "name": "Operators.ipynb",
      "provenance": [],
      "collapsed_sections": [],
      "toc_visible": true,
      "authorship_tag": "ABX9TyOyHtKND+NMuzRYqVhlysqo",
      "include_colab_link": true
    },
    "kernelspec": {
      "name": "python3",
      "display_name": "Python 3"
    },
    "language_info": {
      "name": "python"
    }
  },
  "cells": [
    {
      "cell_type": "markdown",
      "metadata": {
        "id": "view-in-github",
        "colab_type": "text"
      },
      "source": [
        "<a href=\"https://colab.research.google.com/github/daniel692a/colab/blob/main/Operators.ipynb\" target=\"_parent\"><img src=\"https://colab.research.google.com/assets/colab-badge.svg\" alt=\"Open In Colab\"/></a>"
      ]
    },
    {
      "cell_type": "markdown",
      "metadata": {
        "id": "kOVy2yxp01_y"
      },
      "source": [
        "# Operadores Aritméticos"
      ]
    },
    {
      "cell_type": "markdown",
      "metadata": {
        "id": "ASuwTfv105ky"
      },
      "source": [
        "Los operadores aritméticos en Python son los siguientes:\n",
        "\n",
        "| Operador | Descripción | Ejemplo | Resultado |\n",
        "| -------- | ----------- | ------- | --------- |\n",
        "|    +     | Suma        |   4+2   |    6      |\n",
        "|    -     | Resta       |   6-8   |    -2     |\n",
        "|    *     | Multiplicación        |   9*3  |    27      |\n",
        "|    /     | División        |   9/2   |    4.5      |\n",
        "|    //     | Cociente entero de una división        |   9//2   |    4     |\n",
        "|    %     | Residuo de la división        |   9%2   |    1      |\n",
        "|    **     | Potencias       |   2**4   |    16      |"
      ]
    },
    {
      "cell_type": "code",
      "metadata": {
        "colab": {
          "base_uri": "https://localhost:8080/"
        },
        "id": "iIuOu2T10zVM",
        "outputId": "563baf43-c864-4d4a-f752-da6cb139c5b0"
      },
      "source": [
        "print(4+2)\n",
        "print(6-8)\n",
        "print(9*3)\n",
        "print(9/2)\n",
        "print(9//2)\n",
        "print(9%2)\n",
        "print(2**4)"
      ],
      "execution_count": 2,
      "outputs": [
        {
          "output_type": "stream",
          "text": [
            "6\n",
            "-2\n",
            "27\n",
            "4.5\n",
            "4\n",
            "1\n",
            "16\n"
          ],
          "name": "stdout"
        }
      ]
    },
    {
      "cell_type": "markdown",
      "metadata": {
        "id": "4PM33Hex43Pj"
      },
      "source": [
        "# Módulo Math"
      ]
    },
    {
      "cell_type": "markdown",
      "metadata": {
        "id": "_QN588nK450o"
      },
      "source": [
        "Además de los operadores aritméticos, podemos valernos de las funciones del módulo de Python math para calcular redondeos, el factorial de un número, y  hacer operaciones trigonométricas , hiperbólicas, así como exponenciales y  logarítmicas.\n",
        "\n",
        "Además el módulo math incluye valores para las constantes especiales de las que dependen muchas operaciones matemáticas (pi y e)."
      ]
    },
    {
      "cell_type": "code",
      "metadata": {
        "colab": {
          "base_uri": "https://localhost:8080/"
        },
        "id": "Ldg0tpzfmStE",
        "outputId": "116b0d82-14e3-49f1-cba0-d31700f9f53b"
      },
      "source": [
        "#Variables\n",
        "x=3\n",
        "y=-2\n",
        "x+y"
      ],
      "execution_count": 1,
      "outputs": [
        {
          "output_type": "execute_result",
          "data": {
            "text/plain": [
              "1"
            ]
          },
          "metadata": {
            "tags": []
          },
          "execution_count": 1
        }
      ]
    },
    {
      "cell_type": "markdown",
      "metadata": {
        "id": "yoLZpoJEmjzb"
      },
      "source": [
        "## Ejercicio\n",
        "Para *a*=19 y *b*=23, utiliza Python para encontrar los siguientes valores\n",
        "1. *a* x *b*\n",
        "2. *a* + *b*\n",
        "3. *a* - *b*\n",
        "4. *a*/*a*+*b*\n",
        "5. *a*^*b*"
      ]
    },
    {
      "cell_type": "code",
      "metadata": {
        "colab": {
          "base_uri": "https://localhost:8080/"
        },
        "id": "eMyLwWo4nO51",
        "outputId": "49af707e-d78a-419f-d2fe-e587e0721592"
      },
      "source": [
        "a=19\n",
        "b=23\n",
        "print(a*b)\n",
        "print(a+b)\n",
        "print(a-b)\n",
        "print(a/(a+b))\n",
        "print(a**b)"
      ],
      "execution_count": 6,
      "outputs": [
        {
          "output_type": "stream",
          "text": [
            "437\n",
            "42\n",
            "-4\n",
            "0.4523809523809524\n",
            "257829627945307727248226067259\n"
          ],
          "name": "stdout"
        }
      ]
    },
    {
      "cell_type": "code",
      "metadata": {
        "colab": {
          "base_uri": "https://localhost:8080/"
        },
        "id": "pjvJUtD3qQpq",
        "outputId": "86e8fca2-f9bf-4cd7-dc4b-a9851838aac5"
      },
      "source": [
        "import math\n",
        "math.sqrt(9)"
      ],
      "execution_count": 7,
      "outputs": [
        {
          "output_type": "execute_result",
          "data": {
            "text/plain": [
              "3.0"
            ]
          },
          "metadata": {
            "tags": []
          },
          "execution_count": 7
        }
      ]
    },
    {
      "cell_type": "code",
      "metadata": {
        "id": "YUk_AcNRqwrU"
      },
      "source": [
        "help(math)"
      ],
      "execution_count": null,
      "outputs": []
    },
    {
      "cell_type": "code",
      "metadata": {
        "id": "MBPuskxVqck3"
      },
      "source": [
        "#Raíz cuadrada\n",
        "math.sqrt?"
      ],
      "execution_count": 9,
      "outputs": []
    },
    {
      "cell_type": "code",
      "metadata": {
        "colab": {
          "base_uri": "https://localhost:8080/"
        },
        "id": "4hU-bBrZqmy1",
        "outputId": "d37ffbe3-7fb8-4a3d-be4d-df64559de502"
      },
      "source": [
        "#PI\n",
        "math.pi"
      ],
      "execution_count": 10,
      "outputs": [
        {
          "output_type": "execute_result",
          "data": {
            "text/plain": [
              "3.141592653589793"
            ]
          },
          "metadata": {
            "tags": []
          },
          "execution_count": 10
        }
      ]
    },
    {
      "cell_type": "code",
      "metadata": {
        "colab": {
          "base_uri": "https://localhost:8080/"
        },
        "id": "4iU9h59Qq7pj",
        "outputId": "b6096c7f-bb51-4c28-f805-598496b2531d"
      },
      "source": [
        "math.e"
      ],
      "execution_count": 14,
      "outputs": [
        {
          "output_type": "execute_result",
          "data": {
            "text/plain": [
              "2.718281828459045"
            ]
          },
          "metadata": {
            "tags": []
          },
          "execution_count": 14
        }
      ]
    },
    {
      "cell_type": "markdown",
      "metadata": {
        "id": "wK3W4yaXr35W"
      },
      "source": [
        "Usando\n",
        "```python\n",
        "import math\n",
        "```\n",
        "Debemos llamar a math, poner un punto y escribimos la opción que necesitamos:\n",
        "```python\n",
        "math.sin(x)\n",
        "```"
      ]
    },
    {
      "cell_type": "markdown",
      "metadata": {
        "id": "S0QE2m2bsNps"
      },
      "source": [
        "Si queremos ahorrar un poco de escritura podemos hacer lo siguiente:\n",
        "```python\n",
        "from math import *\n",
        "```\n",
        "Con eso nos ahorramos escribir `math.` y lo llamamos directo, el asteristco significa traer todas las funciones, pero si quieres uno específico haces lo siguiente:\n",
        "```python\n",
        "from math import sin\n",
        "\n",
        "sin(3)\n",
        "```"
      ]
    },
    {
      "cell_type": "code",
      "metadata": {
        "colab": {
          "base_uri": "https://localhost:8080/"
        },
        "id": "aVUENC-9spVv",
        "outputId": "22f467e0-3d6d-4c32-ca3b-5c50206f0449"
      },
      "source": [
        "from math import *\n",
        "\n",
        "print(sqrt(25))\n",
        "print(sin(3))"
      ],
      "execution_count": 18,
      "outputs": [
        {
          "output_type": "stream",
          "text": [
            "5.0\n",
            "0.1411200080598672\n"
          ],
          "name": "stdout"
        }
      ]
    }
  ]
}