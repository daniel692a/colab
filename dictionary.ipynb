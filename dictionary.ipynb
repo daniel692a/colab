{
  "nbformat": 4,
  "nbformat_minor": 0,
  "metadata": {
    "colab": {
      "name": "dictionary.ipynb",
      "provenance": [],
      "collapsed_sections": [],
      "authorship_tag": "ABX9TyNQL1PnYKaDlEi5EAXXhki2",
      "include_colab_link": true
    },
    "kernelspec": {
      "name": "python3",
      "display_name": "Python 3"
    },
    "language_info": {
      "name": "python"
    }
  },
  "cells": [
    {
      "cell_type": "markdown",
      "metadata": {
        "id": "view-in-github",
        "colab_type": "text"
      },
      "source": [
        "<a href=\"https://colab.research.google.com/github/daniel692a/colab/blob/main/dictionary.ipynb\" target=\"_parent\"><img src=\"https://colab.research.google.com/assets/colab-badge.svg\" alt=\"Open In Colab\"/></a>"
      ]
    },
    {
      "cell_type": "markdown",
      "metadata": {
        "id": "kCfzqOdkLxDl"
      },
      "source": [
        "# *Diccionarios*\n",
        "Los diccionarios son objetos de gran utilidad en Python, se pueden pensar como un conjunto de pares conformados por una **clave** y un **valor**, que puede ser cualquier objeto de python.\n",
        "\n",
        "Para crear un diccionario se coloca dentro de unas llaves {} una lista de pares,  *clave : valor*, separados por coma.\n",
        "\n",
        "A diferencia de las secuencia donde los elementos son indexados en un rango numérico, los valores en un diccionario se indexan con claves."
      ]
    },
    {
      "cell_type": "code",
      "metadata": {
        "colab": {
          "base_uri": "https://localhost:8080/"
        },
        "id": "yH96UVqULmo8",
        "outputId": "36e2d4f6-a07f-400a-92e5-800f2b89984a"
      },
      "source": [
        "student = { 'name': 'Daniel', 'age': 18, 'counrty': 'MX', 'languages': ['Python', 'JavaScript'] }\n",
        "student"
      ],
      "execution_count": 3,
      "outputs": [
        {
          "output_type": "execute_result",
          "data": {
            "text/plain": [
              "{'age': 18,\n",
              " 'counrty': 'MX',\n",
              " 'languages': ['Python', 'JavaScript'],\n",
              " 'name': 'Daniel'}"
            ]
          },
          "metadata": {
            "tags": []
          },
          "execution_count": 3
        }
      ]
    },
    {
      "cell_type": "code",
      "metadata": {
        "colab": {
          "base_uri": "https://localhost:8080/"
        },
        "id": "MUPunrcaOaUm",
        "outputId": "3b4307e4-e3e6-4559-b7d2-dcc96286e43a"
      },
      "source": [
        "student['languages']"
      ],
      "execution_count": 6,
      "outputs": [
        {
          "output_type": "execute_result",
          "data": {
            "text/plain": [
              "['Python', 'JavaScript']"
            ]
          },
          "metadata": {
            "tags": []
          },
          "execution_count": 6
        }
      ]
    },
    {
      "cell_type": "markdown",
      "metadata": {
        "id": "IgSSqg5gOohn"
      },
      "source": [
        "Como se puede ver, no voy a obtener por index, sino por la clave"
      ]
    },
    {
      "cell_type": "markdown",
      "metadata": {
        "id": "ODYXlYBLPASW"
      },
      "source": [
        "## Obtener Claves"
      ]
    },
    {
      "cell_type": "code",
      "metadata": {
        "colab": {
          "base_uri": "https://localhost:8080/"
        },
        "id": "CJfM57NCPAEL",
        "outputId": "cd330fb5-b35f-4277-a480-e6f923ade12d"
      },
      "source": [
        "student.keys()"
      ],
      "execution_count": 7,
      "outputs": [
        {
          "output_type": "execute_result",
          "data": {
            "text/plain": [
              "dict_keys(['name', 'age', 'counrty', 'languages'])"
            ]
          },
          "metadata": {
            "tags": []
          },
          "execution_count": 7
        }
      ]
    },
    {
      "cell_type": "markdown",
      "metadata": {
        "id": "2QcF6gxiPG-O"
      },
      "source": [
        "## Obtener Valores"
      ]
    },
    {
      "cell_type": "code",
      "metadata": {
        "colab": {
          "base_uri": "https://localhost:8080/"
        },
        "id": "koGz0SrMPJwH",
        "outputId": "336c73a7-6b3c-4917-8eeb-0b1e685d26ec"
      },
      "source": [
        "student.values()"
      ],
      "execution_count": 8,
      "outputs": [
        {
          "output_type": "execute_result",
          "data": {
            "text/plain": [
              "dict_values(['Daniel', 18, 'MX', ['Python', 'JavaScript']])"
            ]
          },
          "metadata": {
            "tags": []
          },
          "execution_count": 8
        }
      ]
    },
    {
      "cell_type": "markdown",
      "metadata": {
        "id": "71qRmebNQHy4"
      },
      "source": [
        "## Añadir claves y valores\n",
        "Los diccionarios si son mutables"
      ]
    },
    {
      "cell_type": "code",
      "metadata": {
        "colab": {
          "base_uri": "https://localhost:8080/"
        },
        "id": "H3UyKdFkQOmm",
        "outputId": "38ac1c51-1920-4fc5-ad2e-a636f351306f"
      },
      "source": [
        "student['music'] = ['Rock', 'Classic']\n",
        "student"
      ],
      "execution_count": 9,
      "outputs": [
        {
          "output_type": "execute_result",
          "data": {
            "text/plain": [
              "{'age': 18,\n",
              " 'counrty': 'MX',\n",
              " 'languages': ['Python', 'JavaScript'],\n",
              " 'music': ['Rock', 'Classic'],\n",
              " 'name': 'Daniel'}"
            ]
          },
          "metadata": {
            "tags": []
          },
          "execution_count": 9
        }
      ]
    }
  ]
}