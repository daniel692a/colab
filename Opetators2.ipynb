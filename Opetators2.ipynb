{
  "nbformat": 4,
  "nbformat_minor": 0,
  "metadata": {
    "colab": {
      "name": "Opetators2.ipynb",
      "provenance": [],
      "collapsed_sections": [],
      "toc_visible": true,
      "authorship_tag": "ABX9TyMIhkGhz1QfkZUg4CCKfHSK",
      "include_colab_link": true
    },
    "kernelspec": {
      "name": "python3",
      "display_name": "Python 3"
    },
    "language_info": {
      "name": "python"
    }
  },
  "cells": [
    {
      "cell_type": "markdown",
      "metadata": {
        "id": "view-in-github",
        "colab_type": "text"
      },
      "source": [
        "<a href=\"https://colab.research.google.com/github/daniel692a/colab/blob/main/Opetators2.ipynb\" target=\"_parent\"><img src=\"https://colab.research.google.com/assets/colab-badge.svg\" alt=\"Open In Colab\"/></a>"
      ]
    },
    {
      "cell_type": "markdown",
      "metadata": {
        "id": "EUOciTALUQDr"
      },
      "source": [
        "# Operadores\n",
        "\n",
        "\n",
        "## *Operadores de comparación*\n",
        ">Como su nombre lo indica, estos operadores se utilizan para hacer la comparación entre dos valores u objetos y obtener un solo valor booleano\n",
        "\n",
        "![Operadores](https://i2.wp.com/cursos.blen.io/wp-content/uploads/2021/02/Operadores-de-comparacion.jpg?w=643&ssl=1)\n",
        "\n",
        "\n",
        "## *Operadores Lógicos*\n",
        ">Los operadores lógicos a los que también se les conoce como operadores binarios o booleanos, son aquellos que devuelven un valor booleano (verdadero o falso) como resultado.\n",
        "`and` y `or` siempre tomarán dos valores o expresiones booleanas para hacer la operación\n",
        "\n",
        "![Lógicos](https://i0.wp.com/cursos.blen.io/wp-content/uploads/2021/02/Screenshot-2021-02-04-at-12.14.03.png?resize=768%2C225&ssl=1)\n",
        "\n",
        ">A diferencia de los operadores `and` y `or`, el operador `not` solamente opera con un solo valor booleano y regresa el contrario..\n"
      ]
    },
    {
      "cell_type": "code",
      "metadata": {
        "colab": {
          "base_uri": "https://localhost:8080/"
        },
        "id": "Zt4xAKeVSX0J",
        "outputId": "523cf9ca-4061-4f98-fbc3-d15c47aed038"
      },
      "source": [
        "# Combinación\n",
        "( 3 < 8 ) and ( 3 < 9)"
      ],
      "execution_count": 2,
      "outputs": [
        {
          "output_type": "execute_result",
          "data": {
            "text/plain": [
              "True"
            ]
          },
          "metadata": {
            "tags": []
          },
          "execution_count": 2
        }
      ]
    },
    {
      "cell_type": "markdown",
      "metadata": {
        "id": "9m1CbFwRSuUO"
      },
      "source": [
        "## *Operadores de asignación*\n",
        "En Python  existe un grupo de operadores de asignación aumentada, que se componen de uno de los operadores aritméticos (+ , – , * ,  / , // , %)  y el operador de asignación = , que permiten abreviar la sintaxis de una operación tal como:"
      ]
    },
    {
      "cell_type": "code",
      "metadata": {
        "colab": {
          "base_uri": "https://localhost:8080/"
        },
        "id": "52uOfBnRUH7e",
        "outputId": "dcd2b52a-fd20-4baa-f20e-d1cdead8a353"
      },
      "source": [
        "a = 2\n",
        "a += 3\n",
        "a"
      ],
      "execution_count": 4,
      "outputs": [
        {
          "output_type": "execute_result",
          "data": {
            "text/plain": [
              "5"
            ]
          },
          "metadata": {
            "tags": []
          },
          "execution_count": 4
        }
      ]
    },
    {
      "cell_type": "markdown",
      "metadata": {
        "id": "6Y5WsWoLUQRY"
      },
      "source": [
        "El equivalente sería:"
      ]
    },
    {
      "cell_type": "code",
      "metadata": {
        "colab": {
          "base_uri": "https://localhost:8080/"
        },
        "id": "HAb-OTnTUSus",
        "outputId": "291279b9-e624-44fb-8dc8-6cd8fb613f43"
      },
      "source": [
        "b = 2\n",
        "b = b + 3\n",
        "b"
      ],
      "execution_count": 5,
      "outputs": [
        {
          "output_type": "execute_result",
          "data": {
            "text/plain": [
              "5"
            ]
          },
          "metadata": {
            "tags": []
          },
          "execution_count": 5
        }
      ]
    },
    {
      "cell_type": "markdown",
      "metadata": {
        "id": "AdgnXVzHUhGt"
      },
      "source": [
        "Existen los siguientes operadores:\n",
        "\n",
        "![Operadores](https://i0.wp.com/cursos.blen.io/wp-content/uploads/2021/02/Screenshot-2021-02-04-at-11.44.11.png?resize=768%2C545&ssl=1)"
      ]
    },
    {
      "cell_type": "code",
      "metadata": {
        "colab": {
          "base_uri": "https://localhost:8080/"
        },
        "id": "rDwlW7egU2ho",
        "outputId": "57d84b96-6647-40db-fa77-baf76a75d7bc"
      },
      "source": [
        "c = 9\n",
        "c -= 2\n",
        "c"
      ],
      "execution_count": 10,
      "outputs": [
        {
          "output_type": "execute_result",
          "data": {
            "text/plain": [
              "7"
            ]
          },
          "metadata": {
            "tags": []
          },
          "execution_count": 10
        }
      ]
    },
    {
      "cell_type": "code",
      "metadata": {
        "colab": {
          "base_uri": "https://localhost:8080/"
        },
        "id": "Lw8k2KWAUsQt",
        "outputId": "0c795bd2-60cb-4b0e-cc6f-e521321bf7bc"
      },
      "source": [
        "d = 9\n",
        "d *= 2\n",
        "d"
      ],
      "execution_count": 11,
      "outputs": [
        {
          "output_type": "execute_result",
          "data": {
            "text/plain": [
              "18"
            ]
          },
          "metadata": {
            "tags": []
          },
          "execution_count": 11
        }
      ]
    },
    {
      "cell_type": "code",
      "metadata": {
        "colab": {
          "base_uri": "https://localhost:8080/"
        },
        "id": "AtUp1GHOUxEp",
        "outputId": "79e3a17a-d3d9-45b5-821a-6829d6487f2a"
      },
      "source": [
        "e = 9\n",
        "e /= 2\n",
        "e"
      ],
      "execution_count": 12,
      "outputs": [
        {
          "output_type": "execute_result",
          "data": {
            "text/plain": [
              "4.5"
            ]
          },
          "metadata": {
            "tags": []
          },
          "execution_count": 12
        }
      ]
    },
    {
      "cell_type": "code",
      "metadata": {
        "colab": {
          "base_uri": "https://localhost:8080/"
        },
        "id": "B65kvjA7U_zF",
        "outputId": "af2705d4-0396-4879-fa7f-3ee46c541f75"
      },
      "source": [
        "f = 9\n",
        "f %= 2\n",
        "f"
      ],
      "execution_count": 14,
      "outputs": [
        {
          "output_type": "execute_result",
          "data": {
            "text/plain": [
              "1"
            ]
          },
          "metadata": {
            "tags": []
          },
          "execution_count": 14
        }
      ]
    },
    {
      "cell_type": "markdown",
      "metadata": {
        "id": "PmtIW1SpVLVX"
      },
      "source": [
        "## *Operadores de Pertenencia*\n",
        "El objetivo de los operadores de pertenencia es probar si un valor o variable se encuentra contenido dentro de otro objeto, que bien puede ser una lista, una tupla, un conjunto, una cadena o un diccionario.\n",
        "\n",
        "![Pertenencia](https://i1.wp.com/cursos.blen.io/wp-content/uploads/2021/02/Screenshot-2021-02-04-at-12.32.13.png?resize=768%2C167&ssl=1)\n"
      ]
    },
    {
      "cell_type": "markdown",
      "metadata": {
        "id": "pDq-3DElWSCS"
      },
      "source": [
        ">Es importante mencionar que en los diccionarios, este operador funciona con las claves o keys."
      ]
    },
    {
      "cell_type": "code",
      "metadata": {
        "colab": {
          "base_uri": "https://localhost:8080/"
        },
        "id": "qWnf5QuGWaVY",
        "outputId": "01074c96-fb55-4e59-843d-edfd423b640f"
      },
      "source": [
        "dic = { 3:1, 4:5 }\n",
        "print(1 in dic)\n",
        "print(3 in dic)"
      ],
      "execution_count": 15,
      "outputs": [
        {
          "output_type": "stream",
          "text": [
            "False\n",
            "True\n"
          ],
          "name": "stdout"
        }
      ]
    },
    {
      "cell_type": "markdown",
      "metadata": {
        "id": "Dw8URK0LW40k"
      },
      "source": [
        "Si lo que deseamos es comprobar si un valor o variable aparece dentro de los valores de un diccionario, en vez de las claves, es necesario explicitarlo de la siguiente manera:"
      ]
    },
    {
      "cell_type": "code",
      "metadata": {
        "colab": {
          "base_uri": "https://localhost:8080/"
        },
        "id": "wD36mQudWzKz",
        "outputId": "cc5181c5-c30b-41a7-c902-2a411437c7b3"
      },
      "source": [
        "1 in dic.values()"
      ],
      "execution_count": 17,
      "outputs": [
        {
          "output_type": "execute_result",
          "data": {
            "text/plain": [
              "True"
            ]
          },
          "metadata": {
            "tags": []
          },
          "execution_count": 17
        }
      ]
    }
  ]
}