{
  "nbformat": 4,
  "nbformat_minor": 0,
  "metadata": {
    "colab": {
      "name": "Clase presencial Python_Tema 4 .ipynb",
      "provenance": [],
      "collapsed_sections": [
        "xlxCY2DDhKf7"
      ],
      "toc_visible": true,
      "include_colab_link": true
    },
    "kernelspec": {
      "name": "python3",
      "display_name": "Python 3"
    }
  },
  "cells": [
    {
      "cell_type": "markdown",
      "metadata": {
        "id": "view-in-github",
        "colab_type": "text"
      },
      "source": [
        "<a href=\"https://colab.research.google.com/github/daniel692a/colab/blob/main/Clase_presencial_Python_Tema_4_.ipynb\" target=\"_parent\"><img src=\"https://colab.research.google.com/assets/colab-badge.svg\" alt=\"Open In Colab\"/></a>"
      ]
    },
    {
      "cell_type": "markdown",
      "metadata": {
        "id": "O6AHfsih8HlJ"
      },
      "source": [
        "# Algoritmos"
      ]
    },
    {
      "cell_type": "markdown",
      "metadata": {
        "id": "Pu5n8xfe8i4K"
      },
      "source": [
        "## Trabajar con los Indices de secuencias\n",
        "\n",
        "\n",
        "```\n",
        "[inicio : final : paso ]\n",
        "```\n"
      ]
    },
    {
      "cell_type": "code",
      "metadata": {
        "colab": {
          "base_uri": "https://localhost:8080/"
        },
        "id": "vh8uw9I2iijY",
        "collapsed": true,
        "outputId": "4cf4712c-16c1-4f7b-fcab-854db6f321f3"
      },
      "source": [
        "arboles = ['pino', 'roble', 'nogal', 'jacaranda', 'tabachin' ]\n",
        "len(arboles)"
      ],
      "execution_count": null,
      "outputs": [
        {
          "output_type": "execute_result",
          "data": {
            "text/plain": [
              "5"
            ]
          },
          "metadata": {
            "tags": []
          },
          "execution_count": 10
        }
      ]
    },
    {
      "cell_type": "code",
      "metadata": {
        "colab": {
          "base_uri": "https://localhost:8080/"
        },
        "id": "DCVOx8TmWGRn",
        "collapsed": true,
        "outputId": "9ed6851e-71e3-4b46-eff0-02ad0d6c388a"
      },
      "source": [
        "arboles[::2]"
      ],
      "execution_count": null,
      "outputs": [
        {
          "output_type": "execute_result",
          "data": {
            "text/plain": [
              "['pino', 'nogal', 'tabachin']"
            ]
          },
          "metadata": {
            "tags": []
          },
          "execution_count": 11
        }
      ]
    },
    {
      "cell_type": "markdown",
      "metadata": {
        "id": "HLvXPiF7V0eV"
      },
      "source": [
        "## Detección de Palíndromos"
      ]
    },
    {
      "cell_type": "code",
      "metadata": {
        "id": "EgtrUnNz6oOi"
      },
      "source": [
        "texto = \"alli ves sevilla\"\n"
      ],
      "execution_count": null,
      "outputs": []
    },
    {
      "cell_type": "code",
      "metadata": {
        "colab": {
          "base_uri": "https://localhost:8080/",
          "height": 35
        },
        "id": "XD8AdVt4vHNp",
        "collapsed": true,
        "outputId": "1b1f39b1-14e6-47c5-8133-bfdeaf325c3e"
      },
      "source": [
        " texto = texto.replace(\" \", \"\")\n",
        " texto"
      ],
      "execution_count": null,
      "outputs": [
        {
          "output_type": "execute_result",
          "data": {
            "application/vnd.google.colaboratory.intrinsic+json": {
              "type": "string"
            },
            "text/plain": [
              "'allivessevilla'"
            ]
          },
          "metadata": {
            "tags": []
          },
          "execution_count": 13
        }
      ]
    },
    {
      "cell_type": "code",
      "metadata": {
        "colab": {
          "base_uri": "https://localhost:8080/",
          "height": 35
        },
        "id": "iYN4T3rZ9rtw",
        "collapsed": true,
        "outputId": "8195c9fa-c89c-4f56-fff7-dbd3c44a3c93"
      },
      "source": [
        "texto[::-1]"
      ],
      "execution_count": null,
      "outputs": [
        {
          "output_type": "execute_result",
          "data": {
            "application/vnd.google.colaboratory.intrinsic+json": {
              "type": "string"
            },
            "text/plain": [
              "'allivessevilla'"
            ]
          },
          "metadata": {
            "tags": []
          },
          "execution_count": 14
        }
      ]
    },
    {
      "cell_type": "code",
      "metadata": {
        "colab": {
          "base_uri": "https://localhost:8080/"
        },
        "id": "CsEt1KiKTW4u",
        "collapsed": true,
        "outputId": "0d22a883-2d39-4f24-dd50-d34695825137"
      },
      "source": [
        "texto == texto[::-1]\n"
      ],
      "execution_count": null,
      "outputs": [
        {
          "output_type": "execute_result",
          "data": {
            "text/plain": [
              "True"
            ]
          },
          "metadata": {
            "tags": []
          },
          "execution_count": 15
        }
      ]
    },
    {
      "cell_type": "code",
      "metadata": {
        "id": "HfhciMh8_h2x"
      },
      "source": [
        "def prueba_palindromo(texto):\n",
        "    texto = texto.replace(\" \", \"\")\n",
        "    print (texto == texto[::-1] )"
      ],
      "execution_count": null,
      "outputs": []
    },
    {
      "cell_type": "code",
      "metadata": {
        "colab": {
          "base_uri": "https://localhost:8080/"
        },
        "id": "OPnfJAmwZMtL",
        "collapsed": true,
        "outputId": "dd086e2e-7155-43f0-9c36-79a478092d16"
      },
      "source": [
        "resultado = prueba_palindromo('anita lava la tina')\n",
        "resultado"
      ],
      "execution_count": null,
      "outputs": [
        {
          "output_type": "stream",
          "text": [
            "True\n"
          ],
          "name": "stdout"
        }
      ]
    },
    {
      "cell_type": "code",
      "metadata": {
        "colab": {
          "base_uri": "https://localhost:8080/"
        },
        "id": "9OB5S415Tyt9",
        "collapsed": true,
        "outputId": "8014485e-ec4f-4798-d1d0-4f95c953f2b9"
      },
      "source": [
        "prueba_palindromo(\"Me gusta Python\")"
      ],
      "execution_count": null,
      "outputs": [
        {
          "output_type": "execute_result",
          "data": {
            "text/plain": [
              "False"
            ]
          },
          "metadata": {
            "tags": []
          },
          "execution_count": 19
        }
      ]
    },
    {
      "cell_type": "code",
      "metadata": {
        "colab": {
          "base_uri": "https://localhost:8080/"
        },
        "id": "v7ED41ISt5FJ",
        "collapsed": true,
        "outputId": "5c8bc388-2437-4c66-9abc-1008e3288392"
      },
      "source": [
        "prueba_palindromo(\"ana\")"
      ],
      "execution_count": null,
      "outputs": [
        {
          "output_type": "execute_result",
          "data": {
            "text/plain": [
              "True"
            ]
          },
          "metadata": {
            "tags": []
          },
          "execution_count": 20
        }
      ]
    },
    {
      "cell_type": "markdown",
      "metadata": {
        "id": "tQyDLbDc8msB"
      },
      "source": [
        "# Ciclos y estructuras por compresnión\n",
        "\n",
        "\n"
      ]
    },
    {
      "cell_type": "markdown",
      "metadata": {
        "id": "-ux7Ro7Alryb"
      },
      "source": [
        "Secuencia de entrada  -------------> Secuencia de salida\n",
        "\n",
        "                      Transformación\n",
        "\n",
        "**Requerimientos:**\n",
        "* secuencia de entrada\n",
        "* acción a ejecutar sobre c/elemento\n",
        "* iteración por cada elemento de la secuencia de entrada\n",
        "\n",
        "**Opcionalmente:**\n",
        "* una condición"
      ]
    },
    {
      "cell_type": "markdown",
      "metadata": {
        "id": "ZrmD_597jdP5"
      },
      "source": [
        "### **Ejemplo 1**"
      ]
    },
    {
      "cell_type": "code",
      "metadata": {
        "colab": {
          "base_uri": "https://localhost:8080/"
        },
        "id": "gdXM3gehTpT0",
        "collapsed": true,
        "outputId": "38c91ca1-8ada-466d-fc99-07933fb431ef"
      },
      "source": [
        "cuadrados_pares = [x ** 2 for x in range(2, 12) if x % 2 == 0]  \n",
        "cuadrados_pares"
      ],
      "execution_count": null,
      "outputs": [
        {
          "output_type": "execute_result",
          "data": {
            "text/plain": [
              "[4, 16, 36, 64, 100]"
            ]
          },
          "metadata": {
            "tags": []
          },
          "execution_count": 27
        }
      ]
    },
    {
      "cell_type": "markdown",
      "metadata": {
        "id": "vMpMAEJ9i4On"
      },
      "source": [
        "**¿Cuál sería el equivalente utilizando el ciclo for?**"
      ]
    },
    {
      "cell_type": "code",
      "metadata": {
        "colab": {
          "base_uri": "https://localhost:8080/"
        },
        "id": "O_71RIcrVk96",
        "outputId": "02135adc-50fe-43fe-d7b1-093045f20e6a"
      },
      "source": [
        "# alternativa  usando ciclos for\n",
        "\n",
        "cuadrados_pares = []\n",
        "for x in range(2, 12):\n",
        "  if x % 2 == 0:\n",
        "    cuadrados_pares.append(x**2)\n",
        "\n",
        "\n",
        "cuadrados_pares"
      ],
      "execution_count": null,
      "outputs": [
        {
          "output_type": "execute_result",
          "data": {
            "text/plain": [
              "[4, 16, 36, 64, 100]"
            ]
          },
          "metadata": {
            "tags": []
          },
          "execution_count": 23
        }
      ]
    },
    {
      "cell_type": "markdown",
      "metadata": {
        "id": "nZVNaLEcjFdv"
      },
      "source": [
        "**¿Y el ciclo while**"
      ]
    },
    {
      "cell_type": "code",
      "metadata": {
        "colab": {
          "base_uri": "https://localhost:8080/"
        },
        "id": "pKQWKjQSb4VD",
        "outputId": "44902215-a1b4-4842-ebab-1a1272bb8a97"
      },
      "source": [
        "# alternativa 2. Usando ciclos while\n",
        "cuadrados_pares = []\n",
        "x = 2\n",
        "while x <= 10:\n",
        "  if x % 2 == 0:\n",
        "    cuadrados_pares.append(x**2) \n",
        "  x = x + 1\n",
        "  # x += 1\n",
        "cuadrados_pares"
      ],
      "execution_count": null,
      "outputs": [
        {
          "output_type": "execute_result",
          "data": {
            "text/plain": [
              "[4, 16, 36, 64, 100]"
            ]
          },
          "metadata": {
            "tags": []
          },
          "execution_count": 42
        }
      ]
    },
    {
      "cell_type": "markdown",
      "metadata": {
        "id": "frkLPHDldXM8"
      },
      "source": [
        "**¿Cuál es la diferencia?**"
      ]
    },
    {
      "cell_type": "markdown",
      "metadata": {
        "id": "uGX9SjrHgvKn"
      },
      "source": [
        "### **Ejemplo 2**\n",
        "\n",
        "**¿Qué lista por compresión sería equivalente a el siguiente bloque de código?**"
      ]
    },
    {
      "cell_type": "code",
      "metadata": {
        "id": "9BqOSWn9wOPQ"
      },
      "source": [
        "frase = 'Hola, ¿cómo estas?'"
      ],
      "execution_count": null,
      "outputs": []
    },
    {
      "cell_type": "code",
      "metadata": {
        "id": "-Foo0zErwUfl"
      },
      "source": [
        "frase?"
      ],
      "execution_count": null,
      "outputs": []
    },
    {
      "cell_type": "code",
      "metadata": {
        "colab": {
          "base_uri": "https://localhost:8080/"
        },
        "id": "Ykwwdr1Lv92S",
        "outputId": "653d3936-4f5e-4fe6-b5bd-7f45579d7347"
      },
      "source": [
        "'a'.isdigit(  )"
      ],
      "execution_count": null,
      "outputs": [
        {
          "output_type": "execute_result",
          "data": {
            "text/plain": [
              "False"
            ]
          },
          "metadata": {
            "tags": []
          },
          "execution_count": 30
        }
      ]
    },
    {
      "cell_type": "code",
      "metadata": {
        "colab": {
          "base_uri": "https://localhost:8080/"
        },
        "id": "t19OJ6I3YhPs",
        "outputId": "612d1a35-cf19-4f15-abd7-3868ec855c4b"
      },
      "source": [
        "texto = 'mi número de telefono es 3298-45-27-98'\n",
        "\n",
        "numeros = []\n",
        "for l in texto:\n",
        "    if l.isdigit():\n",
        "        numeros.append(l)\n",
        "numeros"
      ],
      "execution_count": null,
      "outputs": [
        {
          "output_type": "execute_result",
          "data": {
            "text/plain": [
              "['3', '2', '9', '8', '4', '5', '2', '7', '9', '8']"
            ]
          },
          "metadata": {
            "tags": []
          },
          "execution_count": 36
        }
      ]
    },
    {
      "cell_type": "code",
      "metadata": {
        "colab": {
          "base_uri": "https://localhost:8080/"
        },
        "id": "iYRPmK_mcUnQ",
        "outputId": "5dea1db0-6b0f-4e6b-e73e-d6da76887411"
      },
      "source": [
        "# lista por compresión equivalente \n",
        "\n",
        "numeros = [c for c in texto if c.isdigit()]\n",
        "numeros"
      ],
      "execution_count": null,
      "outputs": [
        {
          "output_type": "execute_result",
          "data": {
            "text/plain": [
              "['3', '2', '9', '8', '4', '5', '2', '7', '9', '8']"
            ]
          },
          "metadata": {
            "tags": []
          },
          "execution_count": 30
        }
      ]
    },
    {
      "cell_type": "markdown",
      "metadata": {
        "id": "yCYj9T9Sf_BW"
      },
      "source": [
        "**¿Podemos usar un ciclo while?**"
      ]
    },
    {
      "cell_type": "markdown",
      "metadata": {
        "id": "keanB6wXhWWn"
      },
      "source": [
        "### **Ejemplo 3**\n",
        "**Generar Tablas de multiplicar**"
      ]
    },
    {
      "cell_type": "code",
      "metadata": {
        "colab": {
          "base_uri": "https://localhost:8080/"
        },
        "id": "1eBgDfHHOj62",
        "outputId": "198b209d-6cb3-4415-fb82-d1061093dd4a"
      },
      "source": [
        "# Usando el ciclo for y guardando el resultado en una lista\n",
        "a = 7\n",
        "tabla = [] \n",
        "for b in range(1, 11):\n",
        "    tabla.append((a, b, a * b))\n",
        "tabla\n"
      ],
      "execution_count": null,
      "outputs": [
        {
          "output_type": "execute_result",
          "data": {
            "text/plain": [
              "[(7, 1, 7),\n",
              " (7, 2, 14),\n",
              " (7, 3, 21),\n",
              " (7, 4, 28),\n",
              " (7, 5, 35),\n",
              " (7, 6, 42),\n",
              " (7, 7, 49),\n",
              " (7, 8, 56),\n",
              " (7, 9, 63),\n",
              " (7, 10, 70)]"
            ]
          },
          "metadata": {
            "tags": []
          },
          "execution_count": 34
        }
      ]
    },
    {
      "cell_type": "code",
      "metadata": {
        "colab": {
          "base_uri": "https://localhost:8080/"
        },
        "id": "odlTfdmAi-V3",
        "outputId": "9d984fa8-b833-43ec-ed82-258d1e688594"
      },
      "source": [
        "# Usando el ciclo for y guardando el resultado en un diccionario\n",
        "a = 7\n",
        "tabla = {}                 \n",
        "for b in range (1, 11):\n",
        "    tabla[a, b] =  a * b\n",
        "tabla\n"
      ],
      "execution_count": null,
      "outputs": [
        {
          "output_type": "execute_result",
          "data": {
            "text/plain": [
              "{(7, 1): 7,\n",
              " (7, 2): 14,\n",
              " (7, 3): 21,\n",
              " (7, 4): 28,\n",
              " (7, 5): 35,\n",
              " (7, 6): 42,\n",
              " (7, 7): 49,\n",
              " (7, 8): 56,\n",
              " (7, 9): 63,\n",
              " (7, 10): 70}"
            ]
          },
          "metadata": {
            "tags": []
          },
          "execution_count": 37
        }
      ]
    },
    {
      "cell_type": "code",
      "metadata": {
        "colab": {
          "base_uri": "https://localhost:8080/"
        },
        "id": "LptJHEvJkrgX",
        "outputId": "8ba63cb2-6aad-442b-dbe5-cbf25d0fb5eb"
      },
      "source": [
        "tabla[7,6]"
      ],
      "execution_count": null,
      "outputs": [
        {
          "output_type": "execute_result",
          "data": {
            "text/plain": [
              "42"
            ]
          },
          "metadata": {
            "tags": []
          },
          "execution_count": 38
        }
      ]
    },
    {
      "cell_type": "code",
      "metadata": {
        "colab": {
          "base_uri": "https://localhost:8080/"
        },
        "id": "AoLkvhEFhWhb",
        "outputId": "eeff0e8f-3dd5-4b0c-9293-928caca05168"
      },
      "source": [
        "# Creando un diccionario por compresión \n",
        "\n",
        "a = 3\n",
        "tabla = {(a, b): a * b  for b in range (1, 11)}\n",
        "tabla"
      ],
      "execution_count": null,
      "outputs": [
        {
          "output_type": "execute_result",
          "data": {
            "text/plain": [
              "{(3, 1): 3,\n",
              " (3, 2): 6,\n",
              " (3, 3): 9,\n",
              " (3, 4): 12,\n",
              " (3, 5): 15,\n",
              " (3, 6): 18,\n",
              " (3, 7): 21,\n",
              " (3, 8): 24,\n",
              " (3, 9): 27,\n",
              " (3, 10): 30}"
            ]
          },
          "metadata": {
            "tags": []
          },
          "execution_count": 39
        }
      ]
    },
    {
      "cell_type": "markdown",
      "metadata": {
        "id": "xlxCY2DDhKf7"
      },
      "source": [
        "# **Tarea**\n",
        "\n"
      ]
    },
    {
      "cell_type": "markdown",
      "metadata": {
        "id": "Q4JSeKpQnPXj"
      },
      "source": [
        "**1. ¿Cuál sería el equivalente a la siguiente línea sin usar listas por compresión?**"
      ]
    },
    {
      "cell_type": "code",
      "metadata": {
        "colab": {
          "base_uri": "https://localhost:8080/"
        },
        "id": "niHU0CP1eY6p",
        "outputId": "ca53e0b9-aeb2-477f-89b3-5f8c2b16b8c2"
      },
      "source": [
        "letras = 'ABCDEFGHIJKLMNÑOPQRSTUVWXYXZ'\n",
        "\n",
        "vocales = [c + c.lower() for c in letras if c in 'AEIOU' ]\n",
        "vocales"
      ],
      "execution_count": 3,
      "outputs": [
        {
          "output_type": "execute_result",
          "data": {
            "text/plain": [
              "['Aa', 'Ee', 'Ii', 'Oo', 'Uu']"
            ]
          },
          "metadata": {
            "tags": []
          },
          "execution_count": 3
        }
      ]
    },
    {
      "cell_type": "code",
      "metadata": {
        "id": "_FSSQDQQcsnW",
        "colab": {
          "base_uri": "https://localhost:8080/"
        },
        "outputId": "6d2bed4a-17fa-48f4-c363-027d658388be"
      },
      "source": [
        "# Equivalente a la línea anterior sin usar listas por compresión \n",
        "vowels = []\n",
        "i=0\n",
        "# Tu código\n",
        "while i < len(letras)-1:\n",
        "    if letras[i] in 'AEIOU':\n",
        "        vowels.append(f'{letras[i]}{letras[i].lower()}')\n",
        "    i+=1\n",
        "\n",
        "print(vowels)"
      ],
      "execution_count": 15,
      "outputs": [
        {
          "output_type": "stream",
          "text": [
            "['Aa', 'Ee', 'Ii', 'Oo', 'Uu']\n"
          ],
          "name": "stdout"
        }
      ]
    },
    {
      "cell_type": "markdown",
      "metadata": {
        "id": "cot587g3QFL_"
      },
      "source": [
        "**2. Crear diccionario con la tabla de multiplicar de cualquier número,  usando el ciclo while**"
      ]
    },
    {
      "cell_type": "code",
      "metadata": {
        "id": "Wnv2dv7YmWGA",
        "colab": {
          "base_uri": "https://localhost:8080/"
        },
        "outputId": "70b0ca0f-89ac-4720-fbd7-5270d3a18157"
      },
      "source": [
        "# Tu código\n",
        "number = int(input())\n",
        "tabla = {}\n",
        "i=1\n",
        "while i < 11:\n",
        "    tabla[f'{number}x{i}'] = number*i\n",
        "    i+=1\n",
        "print(tabla)"
      ],
      "execution_count": 18,
      "outputs": [
        {
          "output_type": "stream",
          "text": [
            "8\n",
            "{'8x1': 8, '8x2': 16, '8x3': 24, '8x4': 32, '8x5': 40, '8x6': 48, '8x7': 56, '8x8': 64, '8x9': 72, '8x10': 80}\n"
          ],
          "name": "stdout"
        }
      ]
    }
  ]
}