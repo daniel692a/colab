{
  "nbformat": 4,
  "nbformat_minor": 0,
  "metadata": {
    "colab": {
      "name": "str.ipynb",
      "provenance": [],
      "authorship_tag": "ABX9TyPUv6Ss+WGJWT4M1g5NSx6s",
      "include_colab_link": true
    },
    "kernelspec": {
      "name": "python3",
      "display_name": "Python 3"
    },
    "language_info": {
      "name": "python"
    }
  },
  "cells": [
    {
      "cell_type": "markdown",
      "metadata": {
        "id": "view-in-github",
        "colab_type": "text"
      },
      "source": [
        "<a href=\"https://colab.research.google.com/github/daniel692a/colab/blob/main/str.ipynb\" target=\"_parent\"><img src=\"https://colab.research.google.com/assets/colab-badge.svg\" alt=\"Open In Colab\"/></a>"
      ]
    },
    {
      "cell_type": "markdown",
      "metadata": {
        "id": "oqKXsI02drui"
      },
      "source": [
        "# Cadenas de caracteres\n",
        "Hasta ahora hemos visto que el tipo de objeto *str* que nos sirven para almacenar texto y que para introducir un texto a una variable de este tipo debemos encerrarlo en comillas simples(‘…’)  o dobles (“…”).\n",
        "\n",
        "Más formalmente el tipo *str* es una  secuencia **inmutable** de caracteres, lo que quiere decir  que una vez creada la variable de este tipo,  sus elementos no se pueden **cambiar**."
      ]
    },
    {
      "cell_type": "code",
      "metadata": {
        "colab": {
          "base_uri": "https://localhost:8080/"
        },
        "id": "szdxmxSXckmm",
        "outputId": "d6a48840-5423-4c53-b06c-4c64d20368df"
      },
      "source": [
        "text1 = \"Pedro afirmó \\\"no estoy de acuerdo\\\" y luego salió.\"\n",
        "print(text1)\n",
        "\n",
        "text2 = 'Pedro afirmó \"no estoy de acuerdo\" y luego salió.'\n",
        "print(text2)"
      ],
      "execution_count": null,
      "outputs": [
        {
          "output_type": "stream",
          "text": [
            "Pedro afirmó \"no estoy de acuerdo\" y luego salió.\n",
            "Pedro afirmó \"no estoy de acuerdo\" y luego salió.\n"
          ],
          "name": "stdout"
        }
      ]
    },
    {
      "cell_type": "code",
      "metadata": {
        "colab": {
          "base_uri": "https://localhost:8080/"
        },
        "id": "Mw9gckPVhNrx",
        "outputId": "5beba452-7198-40ae-940b-e496d2a1a9eb"
      },
      "source": [
        "text1 == text2"
      ],
      "execution_count": null,
      "outputs": [
        {
          "output_type": "execute_result",
          "data": {
            "text/plain": [
              "True"
            ]
          },
          "metadata": {
            "tags": []
          },
          "execution_count": 7
        }
      ]
    },
    {
      "cell_type": "markdown",
      "metadata": {
        "id": "Sd562Ot7hvFm"
      },
      "source": [
        "Manipular texto:"
      ]
    },
    {
      "cell_type": "code",
      "metadata": {
        "colab": {
          "base_uri": "https://localhost:8080/"
        },
        "id": "6o2rZyDGhxiG",
        "outputId": "cc3e54ac-450b-4205-c42c-2744d46eaa11"
      },
      "source": [
        "# Repetir texto y concatenar\n",
        "print(3 * 'a' + 'bcd')\n",
        "# Concatenar\n",
        "text3 = ' Enseguida, se fueron todos'\n",
        "print(text2+text3)"
      ],
      "execution_count": null,
      "outputs": [
        {
          "output_type": "stream",
          "text": [
            "aaabcd\n",
            "Pedro afirmó \"no estoy de acuerdo\" y luego salió. Enseguida, se fueron todos\n"
          ],
          "name": "stdout"
        }
      ]
    },
    {
      "cell_type": "markdown",
      "metadata": {
        "id": "ZcNYptcWioTC"
      },
      "source": [
        "Longitud de la cadena:"
      ]
    },
    {
      "cell_type": "code",
      "metadata": {
        "colab": {
          "base_uri": "https://localhost:8080/"
        },
        "id": "XlwiGeU_iqwr",
        "outputId": "9a7d5e95-c239-4c9a-9151-cdb46c4b741f"
      },
      "source": [
        "len(text2)"
      ],
      "execution_count": null,
      "outputs": [
        {
          "output_type": "execute_result",
          "data": {
            "text/plain": [
              "49"
            ]
          },
          "metadata": {
            "tags": []
          },
          "execution_count": 14
        }
      ]
    },
    {
      "cell_type": "markdown",
      "metadata": {
        "id": "gvLGdne4jN3s"
      },
      "source": [
        "# Mayúsculas y Minúsculas"
      ]
    },
    {
      "cell_type": "code",
      "metadata": {
        "colab": {
          "base_uri": "https://localhost:8080/"
        },
        "id": "vl5xNWxCjNLo",
        "outputId": "1b6f5127-c08a-4a59-e9e2-c9ef7a7da6c6"
      },
      "source": [
        "print(text2.upper())\n",
        "print(text2.lower())"
      ],
      "execution_count": null,
      "outputs": [
        {
          "output_type": "stream",
          "text": [
            "PEDRO AFIRMÓ \"NO ESTOY DE ACUERDO\" Y LUEGO SALIÓ.\n",
            "pedro afirmó \"no estoy de acuerdo\" y luego salió.\n"
          ],
          "name": "stdout"
        }
      ]
    },
    {
      "cell_type": "markdown",
      "metadata": {
        "id": "c9MeHu9NkoRW"
      },
      "source": [
        "Estos métodos no cambian la cadena original, retornan una copia."
      ]
    },
    {
      "cell_type": "markdown",
      "metadata": {
        "id": "OxdLtyWKk_PW"
      },
      "source": [
        "## Indexar y segmentar cadenas de texto"
      ]
    },
    {
      "cell_type": "code",
      "metadata": {
        "colab": {
          "base_uri": "https://localhost:8080/"
        },
        "id": "nCKuGRo_lFMI",
        "outputId": "fc8b06f4-187b-4133-ab1e-a73048942636"
      },
      "source": [
        "text2[0], text2[1], text2[2], text2[3], text2[4]"
      ],
      "execution_count": null,
      "outputs": [
        {
          "output_type": "execute_result",
          "data": {
            "text/plain": [
              "('P', 'e', 'd', 'r', 'o')"
            ]
          },
          "metadata": {
            "tags": []
          },
          "execution_count": 21
        }
      ]
    },
    {
      "cell_type": "code",
      "metadata": {
        "colab": {
          "base_uri": "https://localhost:8080/",
          "height": 35
        },
        "id": "GAWf7FLeleV4",
        "outputId": "8ef892c2-1fc5-4e79-9dd4-38629d62663d"
      },
      "source": [
        "text2[0:5]"
      ],
      "execution_count": null,
      "outputs": [
        {
          "output_type": "execute_result",
          "data": {
            "application/vnd.google.colaboratory.intrinsic+json": {
              "type": "string"
            },
            "text/plain": [
              "'Pedro'"
            ]
          },
          "metadata": {
            "tags": []
          },
          "execution_count": 22
        }
      ]
    },
    {
      "cell_type": "code",
      "metadata": {
        "colab": {
          "base_uri": "https://localhost:8080/",
          "height": 35
        },
        "id": "ORr_sdTPljS7",
        "outputId": "dced3355-9958-46f7-8f8d-d1243fb6b212"
      },
      "source": [
        "text2[:5]"
      ],
      "execution_count": null,
      "outputs": [
        {
          "output_type": "execute_result",
          "data": {
            "application/vnd.google.colaboratory.intrinsic+json": {
              "type": "string"
            },
            "text/plain": [
              "'Pedro'"
            ]
          },
          "metadata": {
            "tags": []
          },
          "execution_count": 23
        }
      ]
    },
    {
      "cell_type": "markdown",
      "metadata": {
        "id": "DnoJfvmhoKBO"
      },
      "source": [
        "Buscar el index"
      ]
    },
    {
      "cell_type": "code",
      "metadata": {
        "colab": {
          "base_uri": "https://localhost:8080/"
        },
        "id": "nScV8GXQl0Cw",
        "outputId": "59896bbb-d0b0-4a41-d9ca-629fd86e6bf6"
      },
      "source": [
        "text2.index('e')"
      ],
      "execution_count": null,
      "outputs": [
        {
          "output_type": "execute_result",
          "data": {
            "text/plain": [
              "1"
            ]
          },
          "metadata": {
            "tags": []
          },
          "execution_count": 24
        }
      ]
    },
    {
      "cell_type": "markdown",
      "metadata": {
        "id": "altvmpfZp_X9"
      },
      "source": [
        "Las cadenas son inmutables"
      ]
    },
    {
      "cell_type": "code",
      "metadata": {
        "colab": {
          "base_uri": "https://localhost:8080/",
          "height": 163
        },
        "id": "ruOvkfluqBKT",
        "outputId": "460e87a5-78c4-4d93-9c06-8ea3eb17e63d"
      },
      "source": [
        "text2[-1] = ','"
      ],
      "execution_count": null,
      "outputs": [
        {
          "output_type": "error",
          "ename": "TypeError",
          "evalue": "ignored",
          "traceback": [
            "\u001b[0;31m---------------------------------------------------------------------------\u001b[0m",
            "\u001b[0;31mTypeError\u001b[0m                                 Traceback (most recent call last)",
            "\u001b[0;32m<ipython-input-29-b8339a29c00b>\u001b[0m in \u001b[0;36m<module>\u001b[0;34m()\u001b[0m\n\u001b[0;32m----> 1\u001b[0;31m \u001b[0mtext2\u001b[0m\u001b[0;34m[\u001b[0m\u001b[0;34m-\u001b[0m\u001b[0;36m1\u001b[0m\u001b[0;34m]\u001b[0m \u001b[0;34m=\u001b[0m \u001b[0;34m','\u001b[0m\u001b[0;34m\u001b[0m\u001b[0;34m\u001b[0m\u001b[0m\n\u001b[0m",
            "\u001b[0;31mTypeError\u001b[0m: 'str' object does not support item assignment"
          ]
        }
      ]
    },
    {
      "cell_type": "markdown",
      "metadata": {
        "id": "9EQVqT-hqFWL"
      },
      "source": [
        "Pero podemos hacer uso de replace que nos devuelve una copia"
      ]
    },
    {
      "cell_type": "code",
      "metadata": {
        "colab": {
          "base_uri": "https://localhost:8080/",
          "height": 35
        },
        "id": "XFZUEj3VqKm7",
        "outputId": "faa821a4-b464-48c6-ba83-cea56a42e103"
      },
      "source": [
        "text2.replace('.', ',')"
      ],
      "execution_count": null,
      "outputs": [
        {
          "output_type": "execute_result",
          "data": {
            "application/vnd.google.colaboratory.intrinsic+json": {
              "type": "string"
            },
            "text/plain": [
              "'Pedro afirmó \"no estoy de acuerdo\" y luego salió,'"
            ]
          },
          "metadata": {
            "tags": []
          },
          "execution_count": 30
        }
      ]
    },
    {
      "cell_type": "code",
      "metadata": {
        "colab": {
          "base_uri": "https://localhost:8080/"
        },
        "id": "5bAHsMSxqPpz",
        "outputId": "c5266a65-f8f5-4117-8b4b-906e694ba825"
      },
      "source": [
        "text2 = text2.replace('.', ',')\n",
        "print(text2)"
      ],
      "execution_count": null,
      "outputs": [
        {
          "output_type": "stream",
          "text": [
            "Pedro afirmó \"no estoy de acuerdo\" y luego salió,\n"
          ],
          "name": "stdout"
        }
      ]
    }
  ]
}