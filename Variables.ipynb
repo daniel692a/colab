{
  "nbformat": 4,
  "nbformat_minor": 0,
  "metadata": {
    "colab": {
      "name": "Variables.ipynb",
      "provenance": [],
      "authorship_tag": "ABX9TyP/y5xgJUlSPQy6bYXi19AP",
      "include_colab_link": true
    },
    "kernelspec": {
      "name": "python3",
      "display_name": "Python 3"
    },
    "language_info": {
      "name": "python"
    }
  },
  "cells": [
    {
      "cell_type": "markdown",
      "metadata": {
        "id": "view-in-github",
        "colab_type": "text"
      },
      "source": [
        "<a href=\"https://colab.research.google.com/github/daniel692a/colab/blob/main/Variables.ipynb\" target=\"_parent\"><img src=\"https://colab.research.google.com/assets/colab-badge.svg\" alt=\"Open In Colab\"/></a>"
      ]
    },
    {
      "cell_type": "markdown",
      "metadata": {
        "id": "rW9kKjvuzPqW"
      },
      "source": [
        "# Variables en Python"
      ]
    },
    {
      "cell_type": "markdown",
      "metadata": {
        "id": "ZklK4p6NzZfA"
      },
      "source": [
        "Cuando creamos una variable en Python, lo que hacemos es reservar espacio de memoria para almacenar valores.\n",
        "\n",
        "En Python la declaración se hace automáticamente al asignar un valor a una variable, utilizando el signo igual (=) de manera que asigna un nombre, del lado izquierdo del operador, con un valor en el lado derecho. Por ejemplo:"
      ]
    },
    {
      "cell_type": "code",
      "metadata": {
        "colab": {
          "base_uri": "https://localhost:8080/"
        },
        "id": "YTmxxQLNzHMC",
        "outputId": "5f858b20-4ef5-4515-f2cf-6e4962e0873b"
      },
      "source": [
        "a=15\n",
        "print(a)"
      ],
      "execution_count": 1,
      "outputs": [
        {
          "output_type": "stream",
          "text": [
            "15\n"
          ],
          "name": "stdout"
        }
      ]
    },
    {
      "cell_type": "markdown",
      "metadata": {
        "id": "IO5jaD1uzp-t"
      },
      "source": [
        "## Recomendaciones para nombrar una variable\n",
        "* Deben comenzar con una letra.\n",
        "* Pueden contener cualquier letra de la A a la Z, en mayúsculas o minúsculas.\n",
        "* Pueden contener números del 0 al 9.\n",
        "* Pueden contener guiones (-) y guiones bajos (-).\n",
        "* Son sensibles a mayúsculas y minúsculas"
      ]
    },
    {
      "cell_type": "markdown",
      "metadata": {
        "id": "vPRbXPmD0Wx6"
      },
      "source": [
        "Es recomendable, pero no necesario que los nombres de las variables estén relacionados con la información que contienen\n",
        "Además 33 palabras clave en Python 3 que no pueden ser usados como nombres de variables, estas son:\n",
        "\n",
        "| Keywords   | Keywords   | Keywords   |\n",
        "| ---------- | ---------- | ---------- |\n",
        "| *False*    | elif     | lambda   |\n",
        "| *None*     | else     | nonlocal |\n",
        "| *True*     | excep   | not      |\n",
        "| *and*      | finally  | or       |\n",
        "| *as*       | for      | pass     |\n",
        "| *assert*   | from     | raise    |\n",
        "| *break*    | global   | return   |\n",
        "| *class*    | if       | try      |\n",
        "| *continue* | import   | while    |\n",
        "| *def*      | in       | with     |\n",
        "| *del*      | is       | yiel     |"
      ]
    },
    {
      "cell_type": "markdown",
      "metadata": {
        "id": "AEUVvsQV3S7q"
      },
      "source": [
        "Al asignar un valor a un variable éste automáticamente se guarda asociándolo a un tipo de objeto. Veremos tipos básicos:\n",
        "\n",
        "* Numéricos, entre los que se encuentran los números enteros (int) y de punto flotante (float)\n",
        "* Booleanos (bool)  que solo tiene dos instancias: verdadero (True) y falso (False)\n",
        "* Cadenas de caracteres (str). Para crear un objeto de este tipo solo es necesario encerrar un conjunto de caracteres entre comillas simples o dobles."
      ]
    },
    {
      "cell_type": "code",
      "metadata": {
        "colab": {
          "base_uri": "https://localhost:8080/"
        },
        "id": "IBhuZXjc4oXx",
        "outputId": "207f3c27-59e8-4432-97fe-6eff3ae93a5d"
      },
      "source": [
        "import keyword\n",
        "\n",
        "for kw in keyword.kwlist:\n",
        "  print(kw)"
      ],
      "execution_count": 3,
      "outputs": [
        {
          "output_type": "stream",
          "text": [
            "False\n",
            "None\n",
            "True\n",
            "and\n",
            "as\n",
            "assert\n",
            "async\n",
            "await\n",
            "break\n",
            "class\n",
            "continue\n",
            "def\n",
            "del\n",
            "elif\n",
            "else\n",
            "except\n",
            "finally\n",
            "for\n",
            "from\n",
            "global\n",
            "if\n",
            "import\n",
            "in\n",
            "is\n",
            "lambda\n",
            "nonlocal\n",
            "not\n",
            "or\n",
            "pass\n",
            "raise\n",
            "return\n",
            "try\n",
            "while\n",
            "with\n",
            "yield\n"
          ],
          "name": "stdout"
        }
      ]
    },
    {
      "cell_type": "markdown",
      "metadata": {
        "id": "_Jcsf04e6VNk"
      },
      "source": [
        "# Tipos de Datos"
      ]
    },
    {
      "cell_type": "code",
      "metadata": {
        "id": "QXuJQ9gj5xuV"
      },
      "source": [
        "number = 10.6767\n",
        "name = 'Daniel Armas Ramírez'\n",
        "is_even = False"
      ],
      "execution_count": 12,
      "outputs": []
    },
    {
      "cell_type": "code",
      "metadata": {
        "colab": {
          "base_uri": "https://localhost:8080/"
        },
        "id": "WWFQiMFu6A7N",
        "outputId": "47c50f5e-bac2-4b33-a241-b15b008ee7b4"
      },
      "source": [
        "type(number)"
      ],
      "execution_count": 9,
      "outputs": [
        {
          "output_type": "execute_result",
          "data": {
            "text/plain": [
              "float"
            ]
          },
          "metadata": {
            "tags": []
          },
          "execution_count": 9
        }
      ]
    },
    {
      "cell_type": "code",
      "metadata": {
        "colab": {
          "base_uri": "https://localhost:8080/"
        },
        "id": "gvOxSzc86P_F",
        "outputId": "036f5520-d137-44e0-a071-704310babf42"
      },
      "source": [
        "type(name)"
      ],
      "execution_count": 10,
      "outputs": [
        {
          "output_type": "execute_result",
          "data": {
            "text/plain": [
              "str"
            ]
          },
          "metadata": {
            "tags": []
          },
          "execution_count": 10
        }
      ]
    },
    {
      "cell_type": "code",
      "metadata": {
        "colab": {
          "base_uri": "https://localhost:8080/"
        },
        "id": "Jzmp0vKs6SIP",
        "outputId": "6563fb2b-f404-456a-ddeb-a579101ddc66"
      },
      "source": [
        "type(is_even)"
      ],
      "execution_count": 11,
      "outputs": [
        {
          "output_type": "execute_result",
          "data": {
            "text/plain": [
              "bool"
            ]
          },
          "metadata": {
            "tags": []
          },
          "execution_count": 11
        }
      ]
    },
    {
      "cell_type": "markdown",
      "metadata": {
        "id": "jRS2jixY9-l5"
      },
      "source": [
        "# Conversión de tipos de datos"
      ]
    },
    {
      "cell_type": "code",
      "metadata": {
        "colab": {
          "base_uri": "https://localhost:8080/"
        },
        "id": "-B50wKJO-CG2",
        "outputId": "e6a053ae-9449-4f7e-8455-30ba3496e203"
      },
      "source": [
        "print(number)\n",
        "int_num = int(number)\n",
        "int_num"
      ],
      "execution_count": 14,
      "outputs": [
        {
          "output_type": "stream",
          "text": [
            "10.6767\n"
          ],
          "name": "stdout"
        },
        {
          "output_type": "execute_result",
          "data": {
            "text/plain": [
              "10"
            ]
          },
          "metadata": {
            "tags": []
          },
          "execution_count": 14
        }
      ]
    },
    {
      "cell_type": "code",
      "metadata": {
        "colab": {
          "base_uri": "https://localhost:8080/"
        },
        "id": "5GItXDTs-dxM",
        "outputId": "a5723eb5-8f25-446f-f724-4f78a0a2906a"
      },
      "source": [
        "digit = '3'\n",
        "print(digit)\n",
        "num = float(digit)\n",
        "print(num)"
      ],
      "execution_count": 15,
      "outputs": [
        {
          "output_type": "stream",
          "text": [
            "3\n",
            "3.0\n"
          ],
          "name": "stdout"
        }
      ]
    },
    {
      "cell_type": "markdown",
      "metadata": {
        "id": "eBO245h5XkLw"
      },
      "source": [
        "## Falsy Values\n",
        "Son aquellos valores que sin ser exactamente `False` son evaluados como `False`"
      ]
    },
    {
      "cell_type": "code",
      "metadata": {
        "colab": {
          "base_uri": "https://localhost:8080/"
        },
        "id": "yxnEEEMaXM3H",
        "outputId": "99f84358-adad-4af0-e40a-f93cf8b22aa0"
      },
      "source": [
        "#Empty list\n",
        "print(bool([]))\n",
        "#Empty tuples\n",
        "print(bool(()))\n",
        "#Empty sets\n",
        "print(bool(set()))\n",
        "#Empty strings\n",
        "print(bool(''))\n",
        "#Empty ranges\n",
        "print(bool(range(0)))\n",
        "\n",
        "# Numbers\n",
        "print(bool(0))\n",
        "print(bool(0.0))\n",
        "print(bool(0j))\n",
        "\n",
        "print(bool(None))"
      ],
      "execution_count": 6,
      "outputs": [
        {
          "output_type": "stream",
          "text": [
            "False\n",
            "False\n",
            "False\n",
            "False\n",
            "False\n",
            "False\n",
            "False\n",
            "False\n",
            "False\n"
          ],
          "name": "stdout"
        }
      ]
    },
    {
      "cell_type": "markdown",
      "metadata": {
        "id": "foJ9bRmFZBMq"
      },
      "source": [
        "## Truthy Values\n",
        "Son aquellos valores que sin ser exactamente `True` son evaluados como `True`\n"
      ]
    },
    {
      "cell_type": "code",
      "metadata": {
        "colab": {
          "base_uri": "https://localhost:8080/"
        },
        "id": "dCAUVD7sZKg9",
        "outputId": "4f6d0926-67c9-4ed6-bb54-7b246a335c65"
      },
      "source": [
        "# Non-empty sequences or collections (lists, tuples, strings, dictionaries, sets)\n",
        "print(bool([1, 2]))\n",
        "print(bool((1, 2)))\n",
        "print(bool('h'))\n",
        "print(bool(2))"
      ],
      "execution_count": 7,
      "outputs": [
        {
          "output_type": "stream",
          "text": [
            "True\n",
            "True\n",
            "True\n",
            "True\n"
          ],
          "name": "stdout"
        }
      ]
    }
  ]
}