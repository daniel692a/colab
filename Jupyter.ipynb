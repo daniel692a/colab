{
  "nbformat": 4,
  "nbformat_minor": 0,
  "metadata": {
    "colab": {
      "name": "Jupyter.ipynb",
      "provenance": [],
      "authorship_tag": "ABX9TyPt6lwEtibBQ329ANxqEanM",
      "include_colab_link": true
    },
    "kernelspec": {
      "name": "python3",
      "display_name": "Python 3"
    },
    "language_info": {
      "name": "python"
    }
  },
  "cells": [
    {
      "cell_type": "markdown",
      "metadata": {
        "id": "view-in-github",
        "colab_type": "text"
      },
      "source": [
        "<a href=\"https://colab.research.google.com/github/daniel692a/colab/blob/main/Jupyter.ipynb\" target=\"_parent\"><img src=\"https://colab.research.google.com/assets/colab-badge.svg\" alt=\"Open In Colab\"/></a>"
      ]
    },
    {
      "cell_type": "markdown",
      "metadata": {
        "id": "KnVJVsxoyvxz"
      },
      "source": [
        "# ¿Qué es Jupyter Notebook?"
      ]
    },
    {
      "cell_type": "markdown",
      "metadata": {
        "id": "uAY6KEoOy3qN"
      },
      "source": [
        "Un **Jupyter Notebook**, es un ambiente de trabajo que busca unificar las herramientas de documentación y ejecución, permitiendo escribir código, visualizar resultados  e incluir comentarios de manera interactiva.\n",
        "\n",
        "Jupyter Notebook tiene su origen en *IPython*, creado en 2014 por el físico colombiano *Fernándo Pérez*, promotor del software libre.\n",
        "\n",
        "El nombre de Jupyter proviene de los tres principales lenguajes de programación que soporta: *Julia*, *Python* y *R*, y tambíen en honor a *Galileo* quien el 7 de enero de 1610 descubrió los tres primeros satélites de Júpiter.\n",
        "\n",
        "Un Notebook no sigue el patrón estándar de código Python en un archivo de texto con extensión `py` que solamente guardan código. En su lugar, es almacenado como un archivo con la extensión `ipynb`  (acrónimo de IPython NoteBook). Estos archivos, internamente usan el formato JSON posibilitando guardar y compartir documentos con texto formateado, código y visualización de resultados.\n",
        "\n",
        "![Jupyter](https://cdn.svgporn.com/logos/jupyter.svg)\n",
        "![Julia](https://cdn.svgporn.com/logos/julia.svg)\n",
        "![Python](https://cdn.svgporn.com/logos/python.svg)"
      ]
    }
  ]
}