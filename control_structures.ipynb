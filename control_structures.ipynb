{
  "nbformat": 4,
  "nbformat_minor": 0,
  "metadata": {
    "colab": {
      "name": "control_structures.ipynb",
      "provenance": [],
      "collapsed_sections": [],
      "toc_visible": true,
      "authorship_tag": "ABX9TyPoZbiZGuqjjaUaFufy5YJD",
      "include_colab_link": true
    },
    "kernelspec": {
      "name": "python3",
      "display_name": "Python 3"
    },
    "language_info": {
      "name": "python"
    }
  },
  "cells": [
    {
      "cell_type": "markdown",
      "metadata": {
        "id": "view-in-github",
        "colab_type": "text"
      },
      "source": [
        "<a href=\"https://colab.research.google.com/github/daniel692a/colab/blob/main/control_structures.ipynb\" target=\"_parent\"><img src=\"https://colab.research.google.com/assets/colab-badge.svg\" alt=\"Open In Colab\"/></a>"
      ]
    },
    {
      "cell_type": "markdown",
      "metadata": {
        "id": "0mOSyItIZcig"
      },
      "source": [
        "# *Bloques de Código y Estructuras de control*\n",
        "Las líneas de código de Python se pueden agrupar en bloques que se identifican según la sangría u identación que estas líneas tengan a la izquierda, de manera que podemos decir que un bloque comienza con la primera línea identada y termina en la última línea de código con igual identación."
      ]
    },
    {
      "cell_type": "markdown",
      "metadata": {
        "id": "m_rPkdJpaIhp"
      },
      "source": [
        "## Estructuras Condicionales"
      ]
    },
    {
      "cell_type": "markdown",
      "metadata": {
        "id": "pzKSplDsaLtn"
      },
      "source": [
        "Nos permiten verificar el cumplimiento de una o más condiciones para decidir qué acción o acciones vamos a ejecutar. Para definir una estructura de control condicional en Python contamos con:\n",
        "1. *if*: Nos ayuda a ejecutar un bloque de código si y solo si se cumple una determinada condición. Su estructura es la siguiente.\n",
        "```python\n",
        "if condicion:\n",
        "    acciones\n",
        "````\n",
        "2. *else*: Se utiliza en ocasiones en que la sentencia if simple, no es suficiente y se necesita ejecutar una o varias acciones si la condición evaluada resulta falsa.\n",
        "```python\n",
        "if condicion:\n",
        "    accion\n",
        "else:\n",
        "    accion\n",
        "```\n",
        "3. *elif*: Se añade a una estructura de control cuando una decisión depende de más de una condición:\n",
        "```python\n",
        "if condicion:\n",
        "    accion\n",
        "elif condicion:\n",
        "    accion\n",
        "...elif condicion:\n",
        "    accion\n",
        "else:\n",
        "    accion\n",
        "```\n",
        "### Veamos un ejemplo"
      ]
    },
    {
      "cell_type": "code",
      "metadata": {
        "colab": {
          "base_uri": "https://localhost:8080/"
        },
        "id": "Mv_q2Xnvb3xD",
        "outputId": "51a9ae94-6363-4c7f-e513-3a0b621607e1"
      },
      "source": [
        "edad = int(input('Ingrese su edad: '))\n",
        "if edad >= 18:\n",
        "    print('Eres mayor de edad')\n",
        "elif edad < 18 and edad >=13:\n",
        "    print('Eres adolescente')\n",
        "else:\n",
        "    print('Eres un niño/a')"
      ],
      "execution_count": 4,
      "outputs": [
        {
          "output_type": "stream",
          "text": [
            "Ingrese su edad: 14\n",
            "Eres adolescente\n"
          ],
          "name": "stdout"
        }
      ]
    },
    {
      "cell_type": "markdown",
      "metadata": {
        "id": "MS6MZV6MfdgC"
      },
      "source": [
        "## *Estructuras iterativas*"
      ]
    },
    {
      "cell_type": "markdown",
      "metadata": {
        "id": "JOXOyB9bfnXi"
      },
      "source": [
        "También llamadas ciclos nos permiten ejecutar de forma repetida un mismo bloque de código mientras mientras una condición sea verdadera. En Python tenemos dos estructuras básicas: los ciclos **while** y los ciclos **for**.\n",
        "\n",
        "En las estructuras iterativas  **while**  un bloque de código se ejecuta mientras una condición es verdadera."
      ]
    },
    {
      "cell_type": "code",
      "metadata": {
        "colab": {
          "base_uri": "https://localhost:8080/"
        },
        "id": "bOXX6c3JgI7o",
        "outputId": "ade34089-6916-4e1f-fa63-ae47dc3ed271"
      },
      "source": [
        "month = 1\n",
        "while month <= 12:\n",
        "    print(f'month {month}')\n",
        "    month+=1"
      ],
      "execution_count": 6,
      "outputs": [
        {
          "output_type": "stream",
          "text": [
            "month 1\n",
            "month 2\n",
            "month 3\n",
            "month 4\n",
            "month 5\n",
            "month 6\n",
            "month 7\n",
            "month 8\n",
            "month 9\n",
            "month 10\n",
            "month 11\n",
            "month 12\n"
          ],
          "name": "stdout"
        }
      ]
    },
    {
      "cell_type": "markdown",
      "metadata": {
        "id": "vd8poUciim46"
      },
      "source": [
        "### Serie de Fibonacci"
      ]
    },
    {
      "cell_type": "code",
      "metadata": {
        "colab": {
          "base_uri": "https://localhost:8080/"
        },
        "id": "wTi4O0rOimR1",
        "outputId": "28249fc5-aac0-4348-83e9-172c092cb672"
      },
      "source": [
        "a, b = 0, 1\n",
        "elements = []\n",
        "while a < 3000:\n",
        "    elements.append(a)\n",
        "    a, b = b, a + b\n",
        "\n",
        "elements"
      ],
      "execution_count": 7,
      "outputs": [
        {
          "output_type": "execute_result",
          "data": {
            "text/plain": [
              "[0, 1, 1, 2, 3, 5, 8, 13, 21, 34, 55, 89, 144, 233, 377, 610, 987, 1597, 2584]"
            ]
          },
          "metadata": {
            "tags": []
          },
          "execution_count": 7
        }
      ]
    },
    {
      "cell_type": "markdown",
      "metadata": {
        "id": "tDKG4HuykHEt"
      },
      "source": [
        "### Ciclos for\n",
        "Son aquellos que nos permiten iterar sobre una secuencia que bien puede ser una lista, tupla, o cadena de caracteres."
      ]
    },
    {
      "cell_type": "code",
      "metadata": {
        "colab": {
          "base_uri": "https://localhost:8080/"
        },
        "id": "YG8MWtD8kyJu",
        "outputId": "e84f354f-d549-4da7-f694-bde6aaf0dbcc"
      },
      "source": [
        "fruits = ['🍎', '🍊', '🍌', '🍉', '🥭']\n",
        "for fruit in fruits:\n",
        "    print(fruit, end=' ')"
      ],
      "execution_count": 10,
      "outputs": [
        {
          "output_type": "stream",
          "text": [
            "🍎 🍊 🍌 🍉 🥭 "
          ],
          "name": "stdout"
        }
      ]
    },
    {
      "cell_type": "code",
      "metadata": {
        "colab": {
          "base_uri": "https://localhost:8080/"
        },
        "id": "w166k3GenvTD",
        "outputId": "ee46415e-187f-4dd1-f175-8c0cc76b4a8f"
      },
      "source": [
        "sqrt = {}\n",
        "for num in range(1, 11):\n",
        "    sqrt[f'{num}^2'] = num**2\n",
        "\n",
        "print(sqrt)"
      ],
      "execution_count": 11,
      "outputs": [
        {
          "output_type": "stream",
          "text": [
            "{'1^2': 1, '2^2': 4, '3^2': 9, '4^2': 16, '5^2': 25, '6^2': 36, '7^2': 49, '8^2': 64, '9^2': 81, '10^2': 100}\n"
          ],
          "name": "stdout"
        }
      ]
    },
    {
      "cell_type": "markdown",
      "metadata": {
        "id": "UFYRMGNxovQA"
      },
      "source": [
        "# *Control de Flujo*\n"
      ]
    },
    {
      "cell_type": "markdown",
      "metadata": {
        "id": "rFkWyz1fsPtl"
      },
      "source": [
        "## Break"
      ]
    },
    {
      "cell_type": "code",
      "metadata": {
        "colab": {
          "base_uri": "https://localhost:8080/"
        },
        "id": "0VRGMX9zsShS",
        "outputId": "9fc2c023-aa43-4eaf-a674-5749d3d8a90f"
      },
      "source": [
        "a = 10\n",
        "while a >= 0:\n",
        "    print(a)\n",
        "    a -= 1\n",
        "    if a==3:\n",
        "        break"
      ],
      "execution_count": 12,
      "outputs": [
        {
          "output_type": "stream",
          "text": [
            "10\n",
            "9\n",
            "8\n",
            "7\n",
            "6\n",
            "5\n",
            "4\n"
          ],
          "name": "stdout"
        }
      ]
    },
    {
      "cell_type": "code",
      "metadata": {
        "colab": {
          "base_uri": "https://localhost:8080/"
        },
        "id": "Rh_y0cd0yzZt",
        "outputId": "92dfd1e6-406f-4a30-b1ee-5950d26d0a4b"
      },
      "source": [
        "primos = []\n",
        "no_primos = []\n",
        "\n",
        "for n in range(2,20):\n",
        "    for x in range(2, n):\n",
        "        if n % x == 0:\n",
        "            no_primos.append(n)\n",
        "            break\n",
        "    else:\n",
        "        primos.append(n)\n",
        "primos"
      ],
      "execution_count": 14,
      "outputs": [
        {
          "output_type": "execute_result",
          "data": {
            "text/plain": [
              "[2, 3, 5, 7, 11, 13, 17, 19]"
            ]
          },
          "metadata": {
            "tags": []
          },
          "execution_count": 14
        }
      ]
    },
    {
      "cell_type": "markdown",
      "metadata": {
        "id": "sHtURaK_z2l6"
      },
      "source": [
        "## Continue"
      ]
    },
    {
      "cell_type": "markdown",
      "metadata": {
        "id": "XxFfYFuo0Vm0"
      },
      "source": [
        "En otros casos necesitamos que cuando ocurren ciertas circunstancias al ejecutar un ciclo, algunas partes del código no se ejecuten. En este caso podemos valernos de la palabra **continue**.  Por otro lado, si queremos que en un ciclo no se ejecute acción alguna, entonces Python tiene reservada la palabra **pass**."
      ]
    },
    {
      "cell_type": "code",
      "metadata": {
        "colab": {
          "base_uri": "https://localhost:8080/"
        },
        "id": "NHyVnUh967yk",
        "outputId": "412eb999-9596-4718-8613-594abee6ce46"
      },
      "source": [
        "i=0\n",
        "while i<8:\n",
        "    i+=1\n",
        "    ## No ejecuta las siguientes acciones si la condición se cumple\n",
        "    if i == 6 or i == 7:\n",
        "        continue\n",
        "    print(i)"
      ],
      "execution_count": 16,
      "outputs": [
        {
          "output_type": "stream",
          "text": [
            "1\n",
            "2\n",
            "3\n",
            "4\n",
            "5\n",
            "8\n"
          ],
          "name": "stdout"
        }
      ]
    },
    {
      "cell_type": "markdown",
      "metadata": {
        "id": "NPjcfE6C-RoD"
      },
      "source": [
        "## Pass"
      ]
    },
    {
      "cell_type": "code",
      "metadata": {
        "colab": {
          "base_uri": "https://localhost:8080/",
          "height": 35
        },
        "id": "P2NQDeiD-TUr",
        "outputId": "263ea723-177f-4580-bd43-64be01eb2323"
      },
      "source": [
        "for c in 'hola':\n",
        "    pass\n",
        "c"
      ],
      "execution_count": 20,
      "outputs": [
        {
          "output_type": "execute_result",
          "data": {
            "application/vnd.google.colaboratory.intrinsic+json": {
              "type": "string"
            },
            "text/plain": [
              "'a'"
            ]
          },
          "metadata": {
            "tags": []
          },
          "execution_count": 20
        }
      ]
    },
    {
      "cell_type": "markdown",
      "metadata": {
        "id": "yf2hQJYG_T-G"
      },
      "source": [
        "Con `pass` le digo ve recorriendo y que no realice nada"
      ]
    },
    {
      "cell_type": "markdown",
      "metadata": {
        "id": "ui8IT3TOAeT2"
      },
      "source": [
        "# Ciclos anidados"
      ]
    },
    {
      "cell_type": "markdown",
      "metadata": {
        "id": "woQdaaIvAi0R"
      },
      "source": [
        "Combinaciones del dado"
      ]
    },
    {
      "cell_type": "code",
      "metadata": {
        "colab": {
          "base_uri": "https://localhost:8080/"
        },
        "id": "KIatTqMrAihG",
        "outputId": "9c322804-e9be-481a-c0eb-55e11cb91c25"
      },
      "source": [
        "dado = [ 1, 2, 3, 4, 5, 6 ]\n",
        "blend = []\n",
        "for x in dado:\n",
        "    for y in dado:\n",
        "        blend.append((x, y))\n",
        "\n",
        "blend"
      ],
      "execution_count": 24,
      "outputs": [
        {
          "output_type": "execute_result",
          "data": {
            "text/plain": [
              "[(1, 1),\n",
              " (1, 2),\n",
              " (1, 3),\n",
              " (1, 4),\n",
              " (1, 5),\n",
              " (1, 6),\n",
              " (2, 1),\n",
              " (2, 2),\n",
              " (2, 3),\n",
              " (2, 4),\n",
              " (2, 5),\n",
              " (2, 6),\n",
              " (3, 1),\n",
              " (3, 2),\n",
              " (3, 3),\n",
              " (3, 4),\n",
              " (3, 5),\n",
              " (3, 6),\n",
              " (4, 1),\n",
              " (4, 2),\n",
              " (4, 3),\n",
              " (4, 4),\n",
              " (4, 5),\n",
              " (4, 6),\n",
              " (5, 1),\n",
              " (5, 2),\n",
              " (5, 3),\n",
              " (5, 4),\n",
              " (5, 5),\n",
              " (5, 6),\n",
              " (6, 1),\n",
              " (6, 2),\n",
              " (6, 3),\n",
              " (6, 4),\n",
              " (6, 5),\n",
              " (6, 6)]"
            ]
          },
          "metadata": {
            "tags": []
          },
          "execution_count": 24
        }
      ]
    }
  ]
}