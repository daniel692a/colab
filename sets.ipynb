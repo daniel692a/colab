{
  "nbformat": 4,
  "nbformat_minor": 0,
  "metadata": {
    "colab": {
      "name": "sets.ipynb",
      "provenance": [],
      "collapsed_sections": [],
      "authorship_tag": "ABX9TyOvGDRxhbbxvv3k8U2mPoU+",
      "include_colab_link": true
    },
    "kernelspec": {
      "name": "python3",
      "display_name": "Python 3"
    },
    "language_info": {
      "name": "python"
    }
  },
  "cells": [
    {
      "cell_type": "markdown",
      "metadata": {
        "id": "view-in-github",
        "colab_type": "text"
      },
      "source": [
        "<a href=\"https://colab.research.google.com/github/daniel692a/colab/blob/main/sets.ipynb\" target=\"_parent\"><img src=\"https://colab.research.google.com/assets/colab-badge.svg\" alt=\"Open In Colab\"/></a>"
      ]
    },
    {
      "cell_type": "markdown",
      "metadata": {
        "id": "23DdpT3mDlq2"
      },
      "source": [
        "# *Conjuntos*\n",
        "Un conjunto no es una secuencia, es una colección de datos en el que los elementos son únicos y no guardan ningún orden. Los conjuntos son útiles para conocer si un elemento pertenece o no a una colección.\n",
        "\n",
        "En **python** el nombre del objeto es *set*. Con ellos podemos hacer operaciones de conjuntos.\n",
        "\n",
        "Se dice que son colecciones porque no importa el orden."
      ]
    },
    {
      "cell_type": "code",
      "metadata": {
        "colab": {
          "base_uri": "https://localhost:8080/"
        },
        "id": "mRC2s7rcCtNK",
        "outputId": "6f9a5a1c-6bc8-46bf-e235-eeb2a95f3cec"
      },
      "source": [
        "A = { 1, 2, 3, 4, 5, 6}\n",
        "A"
      ],
      "execution_count": 1,
      "outputs": [
        {
          "output_type": "execute_result",
          "data": {
            "text/plain": [
              "{1, 2, 3, 4, 5, 6}"
            ]
          },
          "metadata": {
            "tags": []
          },
          "execution_count": 1
        }
      ]
    },
    {
      "cell_type": "code",
      "metadata": {
        "colab": {
          "base_uri": "https://localhost:8080/"
        },
        "id": "NbaGehOBFtcF",
        "outputId": "adc816f0-b927-4aad-c279-c5939e75af11"
      },
      "source": [
        "type(A)"
      ],
      "execution_count": 2,
      "outputs": [
        {
          "output_type": "execute_result",
          "data": {
            "text/plain": [
              "set"
            ]
          },
          "metadata": {
            "tags": []
          },
          "execution_count": 2
        }
      ]
    },
    {
      "cell_type": "markdown",
      "metadata": {
        "id": "Bkq7u1UbF2zu"
      },
      "source": [
        "Si yo repito un valor, no será tomado en cuenta:"
      ]
    },
    {
      "cell_type": "code",
      "metadata": {
        "colab": {
          "base_uri": "https://localhost:8080/"
        },
        "id": "iGApX6c_F7Sh",
        "outputId": "f8e2fee9-2fe6-42f2-a6b3-4760b462c799"
      },
      "source": [
        "B = { 1, 2, 2, 2, 4, 4, 6}\n",
        "B"
      ],
      "execution_count": 3,
      "outputs": [
        {
          "output_type": "execute_result",
          "data": {
            "text/plain": [
              "{1, 2, 4, 6}"
            ]
          },
          "metadata": {
            "tags": []
          },
          "execution_count": 3
        }
      ]
    },
    {
      "cell_type": "markdown",
      "metadata": {
        "id": "_RbPJZB5GI61"
      },
      "source": [
        "### Comporbar si existe un valor en el conjunto"
      ]
    },
    {
      "cell_type": "code",
      "metadata": {
        "colab": {
          "base_uri": "https://localhost:8080/"
        },
        "id": "amwSEIbWGIn3",
        "outputId": "2ca91e30-249d-4819-b094-c089b8e32102"
      },
      "source": [
        "2 in B"
      ],
      "execution_count": 4,
      "outputs": [
        {
          "output_type": "execute_result",
          "data": {
            "text/plain": [
              "True"
            ]
          },
          "metadata": {
            "tags": []
          },
          "execution_count": 4
        }
      ]
    },
    {
      "cell_type": "code",
      "metadata": {
        "colab": {
          "base_uri": "https://localhost:8080/"
        },
        "id": "6p9xD9koGQO-",
        "outputId": "baedfbf0-aef1-4c18-992d-70cb007f3c3a"
      },
      "source": [
        "9 in B"
      ],
      "execution_count": 5,
      "outputs": [
        {
          "output_type": "execute_result",
          "data": {
            "text/plain": [
              "False"
            ]
          },
          "metadata": {
            "tags": []
          },
          "execution_count": 5
        }
      ]
    },
    {
      "cell_type": "markdown",
      "metadata": {
        "id": "5dQcrw7LGdcC"
      },
      "source": [
        "## Operaciones con Conjuntos"
      ]
    },
    {
      "cell_type": "code",
      "metadata": {
        "id": "odsgUzoLGgXY"
      },
      "source": [
        "C = { 1, 2, 3, 4, 5, 6 }\n",
        "D = { 2, 4, 6, 8, 10, 12 }"
      ],
      "execution_count": 7,
      "outputs": []
    },
    {
      "cell_type": "markdown",
      "metadata": {
        "id": "Ht5m25ZTH7Sk"
      },
      "source": [
        "### Unión\n",
        "Los elementos que pertenecen a C y D "
      ]
    },
    {
      "cell_type": "code",
      "metadata": {
        "colab": {
          "base_uri": "https://localhost:8080/"
        },
        "id": "fXr7vyYJH67P",
        "outputId": "dac66e03-5d34-4174-9c27-e867d172b89e"
      },
      "source": [
        "C | D"
      ],
      "execution_count": 8,
      "outputs": [
        {
          "output_type": "execute_result",
          "data": {
            "text/plain": [
              "{1, 2, 3, 4, 5, 6, 8, 10, 12}"
            ]
          },
          "metadata": {
            "tags": []
          },
          "execution_count": 8
        }
      ]
    },
    {
      "cell_type": "markdown",
      "metadata": {
        "id": "cW978awCIgNH"
      },
      "source": [
        "### Intersección de Conjuntos\n",
        "Los elementos que tienen en común C y D"
      ]
    },
    {
      "cell_type": "code",
      "metadata": {
        "colab": {
          "base_uri": "https://localhost:8080/"
        },
        "id": "i8VP36AjIqZa",
        "outputId": "edcece87-e805-42da-ea07-0aa774b5ce2e"
      },
      "source": [
        "C & D"
      ],
      "execution_count": 9,
      "outputs": [
        {
          "output_type": "execute_result",
          "data": {
            "text/plain": [
              "{2, 4, 6}"
            ]
          },
          "metadata": {
            "tags": []
          },
          "execution_count": 9
        }
      ]
    },
    {
      "cell_type": "markdown",
      "metadata": {
        "id": "2SB4K_eQIyRN"
      },
      "source": [
        "### Diferencia de conjuntos\n",
        "Todos los elementos que sean de C y no pertenezcan a D"
      ]
    },
    {
      "cell_type": "code",
      "metadata": {
        "colab": {
          "base_uri": "https://localhost:8080/"
        },
        "id": "HTn7JZeUIx93",
        "outputId": "3c1b6e2d-10c0-4c58-dbec-d1e46dd4d336"
      },
      "source": [
        "C - D"
      ],
      "execution_count": 10,
      "outputs": [
        {
          "output_type": "execute_result",
          "data": {
            "text/plain": [
              "{1, 3, 5}"
            ]
          },
          "metadata": {
            "tags": []
          },
          "execution_count": 10
        }
      ]
    },
    {
      "cell_type": "markdown",
      "metadata": {
        "id": "A8A0vuyNJYja"
      },
      "source": [
        "### Diferencia Simétrica\n",
        "Todos los elemetos de C y D que no tengan en común"
      ]
    },
    {
      "cell_type": "code",
      "metadata": {
        "colab": {
          "base_uri": "https://localhost:8080/"
        },
        "id": "Wk3X2v-CJfUr",
        "outputId": "a5ab2332-741f-4f83-addd-ffa4ffd030ac"
      },
      "source": [
        "C ^ D"
      ],
      "execution_count": 11,
      "outputs": [
        {
          "output_type": "execute_result",
          "data": {
            "text/plain": [
              "{1, 3, 5, 8, 10, 12}"
            ]
          },
          "metadata": {
            "tags": []
          },
          "execution_count": 11
        }
      ]
    },
    {
      "cell_type": "markdown",
      "metadata": {
        "id": "pXxsZmlzKJ0y"
      },
      "source": [
        "## Subconjuntos"
      ]
    },
    {
      "cell_type": "code",
      "metadata": {
        "id": "xvYPauz4KM1R"
      },
      "source": [
        "X = { 1, 2, 4}\n",
        "Y = { 1, 2, 3, 4, 5}"
      ],
      "execution_count": 12,
      "outputs": []
    },
    {
      "cell_type": "code",
      "metadata": {
        "colab": {
          "base_uri": "https://localhost:8080/"
        },
        "id": "ZBUADp4hKjzj",
        "outputId": "18282468-9f0f-49d8-8be7-a98f2c01957c"
      },
      "source": [
        "# ¿ X es subconjunto de Y\n",
        "X <= Y"
      ],
      "execution_count": 13,
      "outputs": [
        {
          "output_type": "execute_result",
          "data": {
            "text/plain": [
              "True"
            ]
          },
          "metadata": {
            "tags": []
          },
          "execution_count": 13
        }
      ]
    },
    {
      "cell_type": "code",
      "metadata": {
        "colab": {
          "base_uri": "https://localhost:8080/"
        },
        "id": "2MfiAZjuKxfV",
        "outputId": "13ac2b1a-aae4-4183-ae08-c4e38abab1bf"
      },
      "source": [
        "# ¿Y es subconjunto de X\n",
        "X >= Y"
      ],
      "execution_count": 15,
      "outputs": [
        {
          "output_type": "execute_result",
          "data": {
            "text/plain": [
              "False"
            ]
          },
          "metadata": {
            "tags": []
          },
          "execution_count": 15
        }
      ]
    }
  ]
}