{
  "nbformat": 4,
  "nbformat_minor": 0,
  "metadata": {
    "colab": {
      "name": "list_comprehensions.ipynb",
      "provenance": [],
      "toc_visible": true,
      "authorship_tag": "ABX9TyNPTpxKIPthw5QUGlTD2JVT",
      "include_colab_link": true
    },
    "kernelspec": {
      "name": "python3",
      "display_name": "Python 3"
    },
    "language_info": {
      "name": "python"
    }
  },
  "cells": [
    {
      "cell_type": "markdown",
      "metadata": {
        "id": "view-in-github",
        "colab_type": "text"
      },
      "source": [
        "<a href=\"https://colab.research.google.com/github/daniel692a/colab/blob/main/list_comprehensions.ipynb\" target=\"_parent\"><img src=\"https://colab.research.google.com/assets/colab-badge.svg\" alt=\"Open In Colab\"/></a>"
      ]
    },
    {
      "cell_type": "markdown",
      "metadata": {
        "id": "UbAFz1lLkHPe"
      },
      "source": [
        "# Comprensión de listas"
      ]
    },
    {
      "cell_type": "code",
      "metadata": {
        "colab": {
          "base_uri": "https://localhost:8080/"
        },
        "id": "SGdvyURYjGBM",
        "outputId": "f5e4ce2b-6588-4a2b-9ad4-4983634d71b5"
      },
      "source": [
        "countries = [ 'mexico', 'french', 'japan', 'poland']\n",
        "\n",
        "Countries = []\n",
        "for country in countries:\n",
        "    Countries.append(country.capitalize())\n",
        "Countries"
      ],
      "execution_count": 1,
      "outputs": [
        {
          "output_type": "execute_result",
          "data": {
            "text/plain": [
              "['Mexico', 'French', 'Japan', 'Poland']"
            ]
          },
          "metadata": {
            "tags": []
          },
          "execution_count": 1
        }
      ]
    },
    {
      "cell_type": "markdown",
      "metadata": {
        "id": "XVlwtE0Oliqi"
      },
      "source": [
        "Veamos como crear la misma lista pero con menos líneas de código:"
      ]
    },
    {
      "cell_type": "code",
      "metadata": {
        "colab": {
          "base_uri": "https://localhost:8080/"
        },
        "id": "T5rlhpcBloL5",
        "outputId": "9b3d609c-7836-4d6f-c8a2-c28aa14cfb18"
      },
      "source": [
        "countries_capitalize = [ c.capitalize() for c in countries ]\n",
        "countries_capitalize"
      ],
      "execution_count": 2,
      "outputs": [
        {
          "output_type": "execute_result",
          "data": {
            "text/plain": [
              "['Mexico', 'French', 'Japan', 'Poland']"
            ]
          },
          "metadata": {
            "tags": []
          },
          "execution_count": 2
        }
      ]
    },
    {
      "cell_type": "markdown",
      "metadata": {
        "id": "vjreH6HTmRVO"
      },
      "source": [
        "Incluso se puede hacer con la misma lista:"
      ]
    },
    {
      "cell_type": "code",
      "metadata": {
        "colab": {
          "base_uri": "https://localhost:8080/"
        },
        "id": "WeGeaMCwmWOV",
        "outputId": "030fc0de-4ea1-445a-9cda-6aefbc4cbbf1"
      },
      "source": [
        "countries = [ p.capitalize() for p in countries]\n",
        "countries"
      ],
      "execution_count": 4,
      "outputs": [
        {
          "output_type": "execute_result",
          "data": {
            "text/plain": [
              "['Mexico', 'French', 'Japan', 'Poland']"
            ]
          },
          "metadata": {
            "tags": []
          },
          "execution_count": 4
        }
      ]
    },
    {
      "cell_type": "code",
      "metadata": {
        "colab": {
          "base_uri": "https://localhost:8080/"
        },
        "id": "l9Y2oooHmoSb",
        "outputId": "6b97e113-52a7-4683-d482-b91d81a85600"
      },
      "source": [
        "sqrt = [ x**2 for x in range(1,11)]\n",
        "sqrt"
      ],
      "execution_count": 7,
      "outputs": [
        {
          "output_type": "execute_result",
          "data": {
            "text/plain": [
              "[1, 4, 9, 16, 25, 36, 49, 64, 81, 100]"
            ]
          },
          "metadata": {
            "tags": []
          },
          "execution_count": 7
        }
      ]
    },
    {
      "cell_type": "markdown",
      "metadata": {
        "id": "wMOzVEqAnVfb"
      },
      "source": [
        "También podemos usar condicionales:"
      ]
    },
    {
      "cell_type": "code",
      "metadata": {
        "colab": {
          "base_uri": "https://localhost:8080/"
        },
        "id": "Woq21lGMnYH2",
        "outputId": "41e7c10f-632a-4ec7-d178-c32ec15dc38f"
      },
      "source": [
        "even_numbers = [ n for n in range(0, 21) if n % 2 == 0 ]\n",
        "even_numbers"
      ],
      "execution_count": 9,
      "outputs": [
        {
          "output_type": "execute_result",
          "data": {
            "text/plain": [
              "[0, 2, 4, 6, 8, 10, 12, 14, 16, 18, 20]"
            ]
          },
          "metadata": {
            "tags": []
          },
          "execution_count": 9
        }
      ]
    },
    {
      "cell_type": "markdown",
      "metadata": {
        "id": "FwtXOi5RpAQ4"
      },
      "source": [
        "Incluso podemos usar ciclos anidados:"
      ]
    },
    {
      "cell_type": "code",
      "metadata": {
        "colab": {
          "base_uri": "https://localhost:8080/"
        },
        "id": "u6LALXESpDMO",
        "outputId": "87d44427-f0e0-4b04-c5e1-47fd3bf6b678"
      },
      "source": [
        "blend = [ (i,j) for i in range(1,7) for j in range(1,7)]\n",
        "blend"
      ],
      "execution_count": 18,
      "outputs": [
        {
          "output_type": "execute_result",
          "data": {
            "text/plain": [
              "[(1, 1),\n",
              " (1, 2),\n",
              " (1, 3),\n",
              " (1, 4),\n",
              " (1, 5),\n",
              " (1, 6),\n",
              " (2, 1),\n",
              " (2, 2),\n",
              " (2, 3),\n",
              " (2, 4),\n",
              " (2, 5),\n",
              " (2, 6),\n",
              " (3, 1),\n",
              " (3, 2),\n",
              " (3, 3),\n",
              " (3, 4),\n",
              " (3, 5),\n",
              " (3, 6),\n",
              " (4, 1),\n",
              " (4, 2),\n",
              " (4, 3),\n",
              " (4, 4),\n",
              " (4, 5),\n",
              " (4, 6),\n",
              " (5, 1),\n",
              " (5, 2),\n",
              " (5, 3),\n",
              " (5, 4),\n",
              " (5, 5),\n",
              " (5, 6),\n",
              " (6, 1),\n",
              " (6, 2),\n",
              " (6, 3),\n",
              " (6, 4),\n",
              " (6, 5),\n",
              " (6, 6)]"
            ]
          },
          "metadata": {
            "tags": []
          },
          "execution_count": 18
        }
      ]
    },
    {
      "cell_type": "markdown",
      "metadata": {
        "id": "qHJXHRcxpkUo"
      },
      "source": [
        "# Diccionarios"
      ]
    },
    {
      "cell_type": "code",
      "metadata": {
        "colab": {
          "base_uri": "https://localhost:8080/"
        },
        "id": "_lHvZJiGpmqz",
        "outputId": "6dbce837-ae35-4860-e68f-f1be09493a19"
      },
      "source": [
        "cubes = { x: x**3 for x in range(1,11)}\n",
        "cubes"
      ],
      "execution_count": 20,
      "outputs": [
        {
          "output_type": "execute_result",
          "data": {
            "text/plain": [
              "{1: 1, 2: 8, 3: 27, 4: 64, 5: 125, 6: 216, 7: 343, 8: 512, 9: 729, 10: 1000}"
            ]
          },
          "metadata": {
            "tags": []
          },
          "execution_count": 20
        }
      ]
    },
    {
      "cell_type": "code",
      "metadata": {
        "colab": {
          "base_uri": "https://localhost:8080/"
        },
        "id": "kAQg8pEhqDqZ",
        "outputId": "78cc07b6-ddd8-4eb3-e465-806c564c7de0"
      },
      "source": [
        "number = int(input('Input a number'))\n",
        "tables = { f'{number}x{i}': number*i for i in range(1, 11)}\n",
        "print(tables)"
      ],
      "execution_count": 21,
      "outputs": [
        {
          "output_type": "stream",
          "text": [
            "Input a number7\n",
            "{'7x1': 7, '7x2': 14, '7x3': 21, '7x4': 28, '7x5': 35, '7x6': 42, '7x7': 49, '7x8': 56, '7x9': 63, '7x10': 70}\n"
          ],
          "name": "stdout"
        }
      ]
    }
  ]
}