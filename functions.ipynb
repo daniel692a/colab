{
  "nbformat": 4,
  "nbformat_minor": 0,
  "metadata": {
    "colab": {
      "name": "functions.ipynb",
      "provenance": [],
      "collapsed_sections": [],
      "toc_visible": true,
      "authorship_tag": "ABX9TyOhfSo8FrpkT5rh0iiU6xnw",
      "include_colab_link": true
    },
    "kernelspec": {
      "name": "python3",
      "display_name": "Python 3"
    },
    "language_info": {
      "name": "python"
    }
  },
  "cells": [
    {
      "cell_type": "markdown",
      "metadata": {
        "id": "view-in-github",
        "colab_type": "text"
      },
      "source": [
        "<a href=\"https://colab.research.google.com/github/daniel692a/colab/blob/main/functions.ipynb\" target=\"_parent\"><img src=\"https://colab.research.google.com/assets/colab-badge.svg\" alt=\"Open In Colab\"/></a>"
      ]
    },
    {
      "cell_type": "markdown",
      "metadata": {
        "id": "MvPCtjOYsbNp"
      },
      "source": [
        "# Funciones"
      ]
    },
    {
      "cell_type": "markdown",
      "metadata": {
        "id": "SWVKkKptx-G5"
      },
      "source": [
        "Las funciones en Python se definen de la siguiente manera:\n",
        "1. Utilizar la palabra clave `def` antes de poner el nombre de la función.\n",
        "2. Nombrar la función utilizando las mismas reglas que las variables.\n",
        "3. Enseguida del nombre agregar paréntesis ()\n",
        "4. Después de eso escribimos dos puntos\n",
        "\n",
        "```python\n",
        "def mi_funcion():\n",
        "    acciones\n",
        "```\n",
        "\n",
        "Al igual que con los ciclos y condicionales debemos usar la identación que nos permiten hacer más legible el código.\n",
        "Una función además puede o no tener cualquier cantidad de parámetros, pero también puede no tener parámetro alguno.\n",
        "\n",
        "Opcionalmente una función de Python puede o no regresar uno o varios valores o estructuras de datos, resultantes de las tareas ejecutadas. Para ello nos valdremos de la la palabra clave `return`."
      ]
    },
    {
      "cell_type": "code",
      "metadata": {
        "colab": {
          "base_uri": "https://localhost:8080/"
        },
        "id": "8gXhGNSdBPwx",
        "outputId": "b22f3332-dfe0-4c6a-f5e1-6829caa9e973"
      },
      "source": [
        "def imc( weight, height):\n",
        "    '''Calcular el IMC'''\n",
        "    return weight/height**2\n",
        "\n",
        "imc(59, 1.62)"
      ],
      "execution_count": null,
      "outputs": [
        {
          "output_type": "execute_result",
          "data": {
            "text/plain": [
              "22.481329065691202"
            ]
          },
          "metadata": {
            "tags": []
          },
          "execution_count": 7
        }
      ]
    },
    {
      "cell_type": "code",
      "metadata": {
        "id": "jMArIM-mDfEF"
      },
      "source": [
        "daniel_imc = imc(60, 1.83)"
      ],
      "execution_count": null,
      "outputs": []
    },
    {
      "cell_type": "code",
      "metadata": {
        "colab": {
          "base_uri": "https://localhost:8080/"
        },
        "id": "yYrWzwY0Dlak",
        "outputId": "6c6db677-aad6-462b-b98a-df2d99447278"
      },
      "source": [
        "daniel_imc"
      ],
      "execution_count": null,
      "outputs": [
        {
          "output_type": "execute_result",
          "data": {
            "text/plain": [
              "17.916330735465376"
            ]
          },
          "metadata": {
            "tags": []
          },
          "execution_count": 9
        }
      ]
    },
    {
      "cell_type": "markdown",
      "metadata": {
        "id": "97fgDe_u-JQt"
      },
      "source": [
        "## Funciones de orden superior\n"
      ]
    },
    {
      "cell_type": "markdown",
      "metadata": {
        "id": "n1WMilNI-O1O"
      },
      "source": [
        ">Una función que recibe como parámetro otra función, se conoce como función de **orden superior**."
      ]
    },
    {
      "cell_type": "code",
      "metadata": {
        "id": "WGvsI8x8sZzb",
        "colab": {
          "base_uri": "https://localhost:8080/"
        },
        "outputId": "85099ae9-e6db-48a7-c17a-74a40e9a6e50"
      },
      "source": [
        "def greeting():\n",
        "    print('Hello')\n",
        "\n",
        "def repeat_greeting(function, n):\n",
        "    # El guión bajo en el ciclo significa que vamos a utilizar el ciclo, pero en el cuerpo del ciclo no vamos a utilizar e valor\n",
        "    for _ in range(n):\n",
        "        function()\n",
        "\n",
        "repeat_greeting(greeting, 5)"
      ],
      "execution_count": null,
      "outputs": [
        {
          "output_type": "stream",
          "text": [
            "Hello\n",
            "Hello\n",
            "Hello\n",
            "Hello\n",
            "Hello\n"
          ],
          "name": "stdout"
        }
      ]
    },
    {
      "cell_type": "markdown",
      "metadata": {
        "id": "mpRcbtQoDpA0"
      },
      "source": [
        "## Funciones Recursivas"
      ]
    },
    {
      "cell_type": "markdown",
      "metadata": {
        "id": "scvo8VuuDxI8"
      },
      "source": [
        ">Python permite que una función pueda llamarse a sí misma dentro de las instrucciones que ejecuta la propia función. A estas funciones se les llama funciones **recursivas**.\n",
        "La recursividad se utiliza para dividir una tarea en tareas de menor tamaño para encontrar la solución de forma más simple.\n",
        "Todas las funciones recursivas deben incluir un tope o momento para dejar de llamarse."
      ]
    },
    {
      "cell_type": "code",
      "metadata": {
        "colab": {
          "base_uri": "https://localhost:8080/"
        },
        "id": "fLHj8hP0EDkR",
        "outputId": "6969b113-0ce9-47a8-ec93-6f414a47d296"
      },
      "source": [
        "def factorial(number):\n",
        "    if number > 1:\n",
        "        number = number * factorial(number-1)\n",
        "    return number\n",
        "\n",
        "factorial(9)"
      ],
      "execution_count": null,
      "outputs": [
        {
          "output_type": "execute_result",
          "data": {
            "text/plain": [
              "362880"
            ]
          },
          "metadata": {
            "tags": []
          },
          "execution_count": 12
        }
      ]
    },
    {
      "cell_type": "markdown",
      "metadata": {
        "id": "i9M-7iTYIDSq"
      },
      "source": [
        "## Funciones lambda"
      ]
    },
    {
      "cell_type": "markdown",
      "metadata": {
        "id": "Qd7QHel0IGVB"
      },
      "source": [
        "Las funciones lambda también son llamadas funciones **anónimas**. Son una herencia del lenguaje *LISP*, diseñado por Jhon McCarty  basándose a su vez en el *cálculo lambda*."
      ]
    },
    {
      "cell_type": "markdown",
      "metadata": {
        "id": "QpZ7EB-8IRzI"
      },
      "source": [
        ">Para construir una función lambda se requiere:\n",
        "1. Escribir la palabra clave lambda\n",
        "2. Especificar los argumentos de la función, separados por comas\n",
        "3. Añadir dos puntos (:)\n",
        "4. Escribir la acción a ejecutar.\n",
        "\n",
        "```python\n",
        "lambda x, y: x + y\n",
        "```"
      ]
    },
    {
      "cell_type": "code",
      "metadata": {
        "colab": {
          "base_uri": "https://localhost:8080/"
        },
        "id": "bQ--nv52NLG5",
        "outputId": "573ae276-9fdb-440d-f0cd-3394b1768193"
      },
      "source": [
        "def sqrt(x):\n",
        "    return x **2\n",
        "\n",
        "sqrt(3)"
      ],
      "execution_count": null,
      "outputs": [
        {
          "output_type": "execute_result",
          "data": {
            "text/plain": [
              "9"
            ]
          },
          "metadata": {
            "tags": []
          },
          "execution_count": 14
        }
      ]
    },
    {
      "cell_type": "markdown",
      "metadata": {
        "id": "Uo5yK46qNTRa"
      },
      "source": [
        "En función lambda:"
      ]
    },
    {
      "cell_type": "code",
      "metadata": {
        "colab": {
          "base_uri": "https://localhost:8080/"
        },
        "id": "SneeMblrNVOf",
        "outputId": "f3729438-3468-4e41-f1f6-79bde57257a4"
      },
      "source": [
        "(lambda x: x**2) (3)"
      ],
      "execution_count": null,
      "outputs": [
        {
          "output_type": "execute_result",
          "data": {
            "text/plain": [
              "9"
            ]
          },
          "metadata": {
            "tags": []
          },
          "execution_count": 17
        }
      ]
    },
    {
      "cell_type": "code",
      "metadata": {
        "colab": {
          "base_uri": "https://localhost:8080/"
        },
        "id": "WGcOupXJOWvA",
        "outputId": "6d5f421e-617b-4c65-e081-4e9159cf4439"
      },
      "source": [
        "add = lambda x, y: x * y\n",
        "\n",
        "add(3, 4)"
      ],
      "execution_count": null,
      "outputs": [
        {
          "output_type": "execute_result",
          "data": {
            "text/plain": [
              "12"
            ]
          },
          "metadata": {
            "tags": []
          },
          "execution_count": 18
        }
      ]
    },
    {
      "cell_type": "markdown",
      "metadata": {
        "id": "W2RuYNRPP0Ce"
      },
      "source": [
        "También podemos añadir funciones de orden superior"
      ]
    },
    {
      "cell_type": "code",
      "metadata": {
        "colab": {
          "base_uri": "https://localhost:8080/"
        },
        "id": "OxJYgibHPz2s",
        "outputId": "37414a6e-0678-4240-e4b9-d8a8bc3a1eaa"
      },
      "source": [
        "def cube_number(n):\n",
        "    return n**2\n",
        "\n",
        "potencias = lambda x, function: x * function(x)\n",
        "\n",
        "potencias(4, cube_number)"
      ],
      "execution_count": null,
      "outputs": [
        {
          "output_type": "execute_result",
          "data": {
            "text/plain": [
              "64"
            ]
          },
          "metadata": {
            "tags": []
          },
          "execution_count": 26
        }
      ]
    },
    {
      "cell_type": "markdown",
      "metadata": {
        "id": "oOzuKL9WRnoM"
      },
      "source": [
        "# Uso de lambda en *map*, *reduce* y *filter*"
      ]
    },
    {
      "cell_type": "markdown",
      "metadata": {
        "id": "_cUClln7SMOa"
      },
      "source": [
        "Las funciones lambda suelen ser muy útiles dentro de otra función, ya sea en una definida por nosotros mismos, o bien, en una función de Python o de algún módulo o librería. Por ello la función lambda, con frecuencia se utiliza con tres famosas funciones de Python:\n",
        "* *map()*: se utiliza para ejecutar una función sobre una lista y obtener otra lista donde cada uno de los elementos ha sido transformada por la función especificada.\n",
        "* *filter()*: regresa una lista, después de aplicar una función, con aquellos elementos para los cuales la función es verdadera.\n",
        "* *reduce()*: produce un solo valor a partir de aplicar una función a todos los elementos de una lista.\n",
        "![Ejemplos](https://i2.wp.com/cursos.blen.io/wp-content/uploads/2021/02/map-filter-reduce.png?w=355&ssl=1)"
      ]
    },
    {
      "cell_type": "code",
      "metadata": {
        "id": "7e6Rk7YxSqNN"
      },
      "source": [
        "filter?"
      ],
      "execution_count": 5,
      "outputs": []
    },
    {
      "cell_type": "markdown",
      "metadata": {
        "id": "67IHX9hB2OAC"
      },
      "source": [
        "Estas funciones retornan un iterador, otro tipo de objeto, como podemos ver a continucación:"
      ]
    },
    {
      "cell_type": "code",
      "metadata": {
        "colab": {
          "base_uri": "https://localhost:8080/"
        },
        "id": "fYFwAS951wOa",
        "outputId": "f9c7d9ac-99dd-4617-a9e1-a80f30b2c888"
      },
      "source": [
        "result = filter(lambda word: 'o' in word, ['sal', 'son', 'cal'])\n",
        "result"
      ],
      "execution_count": 22,
      "outputs": [
        {
          "output_type": "execute_result",
          "data": {
            "text/plain": [
              "<filter at 0x7f25e0d7bb50>"
            ]
          },
          "metadata": {
            "tags": []
          },
          "execution_count": 22
        }
      ]
    },
    {
      "cell_type": "markdown",
      "metadata": {
        "id": "SrsGGKBN3FQv"
      },
      "source": [
        "Para poder visualizar los resultados, podemos hacer lo siguiente:"
      ]
    },
    {
      "cell_type": "code",
      "metadata": {
        "colab": {
          "base_uri": "https://localhost:8080/"
        },
        "id": "_e7KP-203EwR",
        "outputId": "b793cc54-58f0-4b91-a735-edcc43c2a057"
      },
      "source": [
        "list(result)"
      ],
      "execution_count": 23,
      "outputs": [
        {
          "output_type": "execute_result",
          "data": {
            "text/plain": [
              "['son']"
            ]
          },
          "metadata": {
            "tags": []
          },
          "execution_count": 23
        }
      ]
    },
    {
      "cell_type": "code",
      "metadata": {
        "id": "i2AL3Iwl4e3n"
      },
      "source": [
        "ages = [ 12, 18, 40, 30, 10, 4]\n",
        "citizens = filter(lambda age: age >= 18, ages)"
      ],
      "execution_count": 20,
      "outputs": []
    },
    {
      "cell_type": "code",
      "metadata": {
        "colab": {
          "base_uri": "https://localhost:8080/"
        },
        "id": "p8w6KDzm6MG2",
        "outputId": "5127767a-faa8-49f6-dc89-d42106a20ad4"
      },
      "source": [
        "list(citizens)"
      ],
      "execution_count": 21,
      "outputs": [
        {
          "output_type": "execute_result",
          "data": {
            "text/plain": [
              "[18, 40, 30]"
            ]
          },
          "metadata": {
            "tags": []
          },
          "execution_count": 21
        }
      ]
    },
    {
      "cell_type": "code",
      "metadata": {
        "id": "AZdqoeNm3hUK"
      },
      "source": [
        "people = ['👩', '🧔']\n",
        "devs = map(lambda person: person + '💻', people)"
      ],
      "execution_count": 18,
      "outputs": []
    },
    {
      "cell_type": "markdown",
      "metadata": {
        "id": "ODmx2Hf44PLt"
      },
      "source": [
        "También retrona un objeto iterable:"
      ]
    },
    {
      "cell_type": "code",
      "metadata": {
        "colab": {
          "base_uri": "https://localhost:8080/"
        },
        "id": "skhsNo2p3yuJ",
        "outputId": "1e4962e3-586c-452d-b467-9ca1f58e194f"
      },
      "source": [
        "list(devs)"
      ],
      "execution_count": 19,
      "outputs": [
        {
          "output_type": "execute_result",
          "data": {
            "text/plain": [
              "['👩💻', '🧔💻']"
            ]
          },
          "metadata": {
            "tags": []
          },
          "execution_count": 19
        }
      ]
    },
    {
      "cell_type": "code",
      "metadata": {
        "colab": {
          "base_uri": "https://localhost:8080/"
        },
        "id": "uiAjye2D6yhB",
        "outputId": "32f1d910-1838-4314-9a8a-26772a30b5fd"
      },
      "source": [
        "names = [ 'daniel', 'maria', 'sandra' ]\n",
        "correct_names = map(lambda name: name.capitalize(), names )\n",
        "correct_names"
      ],
      "execution_count": 25,
      "outputs": [
        {
          "output_type": "execute_result",
          "data": {
            "text/plain": [
              "<map at 0x7f25e0cf0e10>"
            ]
          },
          "metadata": {
            "tags": []
          },
          "execution_count": 25
        }
      ]
    },
    {
      "cell_type": "code",
      "metadata": {
        "colab": {
          "base_uri": "https://localhost:8080/"
        },
        "id": "UYcoAUSa7dyX",
        "outputId": "0a5ae6a5-4cf6-4d1e-fb7a-4648ca16ff87"
      },
      "source": [
        "list(correct_names)"
      ],
      "execution_count": 26,
      "outputs": [
        {
          "output_type": "execute_result",
          "data": {
            "text/plain": [
              "['Daniel', 'Maria', 'Sandra']"
            ]
          },
          "metadata": {
            "tags": []
          },
          "execution_count": 26
        }
      ]
    },
    {
      "cell_type": "markdown",
      "metadata": {
        "id": "qrrvZq8q8Mu7"
      },
      "source": [
        "### *reduce()*"
      ]
    },
    {
      "cell_type": "markdown",
      "metadata": {
        "id": "NIDXACLn8Qbw"
      },
      "source": [
        "Tenemos que importarla de un módulo"
      ]
    },
    {
      "cell_type": "code",
      "metadata": {
        "colab": {
          "base_uri": "https://localhost:8080/"
        },
        "id": "v_zTCuML8PME",
        "outputId": "194194ce-a058-41d5-e109-c00bd2670b77"
      },
      "source": [
        "from functools import reduce\n",
        "#suma de edades\n",
        "reduce(lambda x, y: x + y, ages )"
      ],
      "execution_count": 27,
      "outputs": [
        {
          "output_type": "execute_result",
          "data": {
            "text/plain": [
              "114"
            ]
          },
          "metadata": {
            "tags": []
          },
          "execution_count": 27
        }
      ]
    },
    {
      "cell_type": "code",
      "metadata": {
        "colab": {
          "base_uri": "https://localhost:8080/",
          "height": 35
        },
        "id": "faT5lg5N8s2n",
        "outputId": "60208950-0f94-44c9-cbc7-f9e8c8697ba3"
      },
      "source": [
        "reduce(lambda x, y: x + y, names )"
      ],
      "execution_count": 28,
      "outputs": [
        {
          "output_type": "execute_result",
          "data": {
            "application/vnd.google.colaboratory.intrinsic+json": {
              "type": "string"
            },
            "text/plain": [
              "'danielmariasandra'"
            ]
          },
          "metadata": {
            "tags": []
          },
          "execution_count": 28
        }
      ]
    },
    {
      "cell_type": "markdown",
      "metadata": {
        "id": "zVX1TOfE9c9N"
      },
      "source": [
        "No voy a requerir de convertirlo a lista como los anteriores porque me devulve un solo valor."
      ]
    }
  ]
}