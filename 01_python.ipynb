{
  "nbformat": 4,
  "nbformat_minor": 0,
  "metadata": {
    "colab": {
      "name": "01-python.ipynb",
      "provenance": [],
      "toc_visible": true,
      "authorship_tag": "ABX9TyNmI9D7aKxBodxSPcglmAFq",
      "include_colab_link": true
    },
    "kernelspec": {
      "name": "python3",
      "display_name": "Python 3"
    }
  },
  "cells": [
    {
      "cell_type": "markdown",
      "metadata": {
        "id": "view-in-github",
        "colab_type": "text"
      },
      "source": [
        "<a href=\"https://colab.research.google.com/github/daniel692a/colab/blob/main/01_python.ipynb\" target=\"_parent\"><img src=\"https://colab.research.google.com/assets/colab-badge.svg\" alt=\"Open In Colab\"/></a>"
      ]
    },
    {
      "cell_type": "markdown",
      "metadata": {
        "id": "YMUB_jmgrxUd"
      },
      "source": [
        "# Clase 1 Python"
      ]
    },
    {
      "cell_type": "markdown",
      "metadata": {
        "id": "tHNdSUi-fhmJ"
      },
      "source": [
        "Mi primer Jupyter Notebook con Google Colab"
      ]
    },
    {
      "cell_type": "code",
      "metadata": {
        "colab": {
          "base_uri": "https://localhost:8080/"
        },
        "id": "1NUu_ybYtuCV",
        "outputId": "bae88b08-e86a-4496-b13d-1ca12914d266"
      },
      "source": [
        "print('Hola Mundo')"
      ],
      "execution_count": null,
      "outputs": [
        {
          "output_type": "stream",
          "text": [
            "Hola Mundo\n"
          ],
          "name": "stdout"
        }
      ]
    },
    {
      "cell_type": "markdown",
      "metadata": {
        "id": "R6AiwovbfSYu"
      },
      "source": [
        "Al enviar un notebook el usuario visualizará el código y su resultado"
      ]
    },
    {
      "cell_type": "markdown",
      "metadata": {
        "id": "BmaOA4Nng45v"
      },
      "source": [
        "# Jupyter Notebooks"
      ]
    },
    {
      "cell_type": "markdown",
      "metadata": {
        "id": "aYpUXrz2iZfB"
      },
      "source": [
        "Utiliza Python, Markdown y Latex\n",
        "\n",
        "![GitHub repo size](https://img.shields.io/github/repo-size/daniel692a/colab?color=f37725&style=for-the-badge)\n",
        "![GitHub issues](https://img.shields.io/github/issues/daniel692a/colab?style=for-the-badge)"
      ]
    },
    {
      "cell_type": "markdown",
      "metadata": {
        "id": "I_1w9jJkhjUs"
      },
      "source": [
        "## Pedir ayuda en Jupyter Notebooks"
      ]
    },
    {
      "cell_type": "code",
      "metadata": {
        "colab": {
          "base_uri": "https://localhost:8080/"
        },
        "id": "E2TrY1G6hXMt",
        "outputId": "eeea748a-cf74-4aab-f87f-6fbf63bf30e8"
      },
      "source": [
        "?\n",
        "print?\n",
        "help(print)"
      ],
      "execution_count": 4,
      "outputs": [
        {
          "output_type": "stream",
          "text": [
            "Help on built-in function print in module builtins:\n",
            "\n",
            "print(...)\n",
            "    print(value, ..., sep=' ', end='\\n', file=sys.stdout, flush=False)\n",
            "    \n",
            "    Prints the values to a stream, or to sys.stdout by default.\n",
            "    Optional keyword arguments:\n",
            "    file:  a file-like object (stream); defaults to the current sys.stdout.\n",
            "    sep:   string inserted between values, default a space.\n",
            "    end:   string appended after the last value, default a newline.\n",
            "    flush: whether to forcibly flush the stream.\n",
            "\n"
          ],
          "name": "stdout"
        }
      ]
    },
    {
      "cell_type": "markdown",
      "metadata": {
        "id": "Co3Lr1NQkcVV"
      },
      "source": [
        "# ¿Qué es Python?"
      ]
    },
    {
      "cell_type": "markdown",
      "metadata": {
        "id": "oelZqAYWkaJ6"
      },
      "source": [
        "El ingeniero de software **Tim Peters** escribió *“Zen of Python”* que es una colección de 19 principios rectores para escribir programas de computadora. Estos influyeron en el diseño del lenguaje de programación Python. Entre estos principios están:\n",
        "* Bello es mejor que feo\n",
        "* Explícito es mejor que implícito\n",
        "* Simple es mejor que complejo\n",
        "* Complejo es mejor que complicado\n",
        "* La legibilidad cuenta\n",
        "* Los casos especiales no son tan especiales como para quebrantar las reglas"
      ]
    },
    {
      "cell_type": "markdown",
      "metadata": {
        "id": "T1gxPjz7lWf9"
      },
      "source": [
        "## Características Generales\n",
        "### Ventajas\n",
        "1. Python es un lenguaje fácil de aprender y de programar.\n",
        "2. Es un lenguaje versátil.\n",
        "3. Es un lenguaje limpio y simple, fácil de leer e intuitivo.\n",
        "4. Incorpora herramientas para visualización de datos.\n",
        "5. Otorga un “entorno” unificado e interactivo.\n",
        "6. Requiere un tiempo de desarrollo reducido y un tiempo de ejecución razonable.\n",
        "7. El lenguaje está diseñado para fomentar muchas buenas prácticas de programación como son:\n",
        "  * Programación modular y orientada al objeto: permite “empaquetar” y reusar códigos, lo que además logra un código más transparente y facilidad para depurar bugs.\n",
        "8. Su documentación está estrechamente integrada al código: cuenta con una gran librería y colección de paquetes externos.\n",
        "\n",
        "### Desventajas\n",
        "* Python es un lenguaje interpretado y de tipado dinámico, por lo que la ejecución del código puede ser lenta comparada con lenguajes compilados y de tipado estático, como C++ y Fortran."
      ]
    },
    {
      "cell_type": "markdown",
      "metadata": {
        "id": "1quO4w_wmaKH"
      },
      "source": [
        "## Archivos de Programas en Python\n",
        "El código Python es usualmente almacenado en archivos de texto con extensión `.py`.\n",
        "Se asume que cada línea de un archivo de programa en Python es una sentencia Python, o parte de una sentencia, la única excepción son las líneas de comentarios, que comienzan con el carácter `#` estas líneas son ignoradas por el intérprete Python."
      ]
    }
  ]
}